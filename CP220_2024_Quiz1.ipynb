{
  "nbformat": 4,
  "nbformat_minor": 0,
  "metadata": {
    "colab": {
      "provenance": [],
      "include_colab_link": true
    },
    "kernelspec": {
      "name": "python3",
      "display_name": "Python 3"
    },
    "language_info": {
      "name": "python"
    }
  },
  "cells": [
    {
      "cell_type": "markdown",
      "metadata": {
        "id": "view-in-github",
        "colab_type": "text"
      },
      "source": [
        "<a href=\"https://colab.research.google.com/github/AshrithSagar/CP220-M4RAS-2024/blob/main/CP220_2024_Quiz1.ipynb\" target=\"_parent\"><img src=\"https://colab.research.google.com/assets/colab-badge.svg\" alt=\"Open In Colab\"/></a>"
      ]
    },
    {
      "cell_type": "markdown",
      "source": [
        "---\n",
        "**CP220-2023 Midterm**\n",
        "\n",
        "Answers"
      ],
      "metadata": {
        "id": "Jq34pkM7-BOX"
      }
    },
    {
      "cell_type": "markdown",
      "source": [
        "---\n",
        "**Q1**\n",
        "Consider the following sets:\n",
        "\n",
        "1. $S_a = \\{f:ℝ → ℝ| f$ has finitely many zeros $\\}$\n",
        "\n",
        "2. $S_b = \\{f:ℝ → ℝ | f$ is monotonous non-decreasing $\\}$\n",
        "\n",
        "3. $S_c = \\{f:ℝ→ℝ| f$ is a polynomial of finite degree $\\}$\n",
        "\n",
        "Which of the following statements are true:\n",
        "\n",
        "a) All are vector spaces\n",
        "\n",
        "b) Only $S_c$ is a vector space and $S_a$, $S_b$ arent.\n",
        "\n",
        "c) $S_c$ and $S_a$ are vector spaces\n",
        "\n",
        "d) $S_a$ and $S_b$ are vector spaces\n"
      ],
      "metadata": {
        "id": "w7IflLyp-G2g"
      }
    },
    {
      "cell_type": "markdown",
      "source": [
        "Ans:\n",
        "\n",
        "b)\n",
        "\n",
        "As $S_a$ doesnt contain the $0$ function and $S_b$ is not closed under scalar multiplication with negative scalars"
      ],
      "metadata": {
        "id": "VgPCQMPHAdsy"
      }
    },
    {
      "cell_type": "markdown",
      "source": [
        "---\n",
        "**Q2**\n",
        "\n",
        "Let\n",
        "\n",
        "$u_1 = \\begin{bmatrix}2 \\\\ 3 \\\\ -1 \\end{bmatrix}$,\n",
        "\n",
        "$u_2 = \\begin{bmatrix}6 \\\\ 1 \\\\ 0 \\end{bmatrix}$,\n",
        "\n",
        "$u_3 = \\begin{bmatrix}-6 \\\\ 7 \\\\ -3 \\end{bmatrix}$\n",
        "\n",
        "and $H=SPAN(u_1, u_2, u_3)$\n",
        "\n",
        "Which of the following are true:\n",
        "\n",
        "a) $u_1, u_2, u_3$ are the basis vectors of H\n",
        "\n",
        "b) $u_1, u_2$ are the basis vectors of H\n",
        "\n",
        "c) $u_2, u_3$ are the basis vectors of H\n",
        "\n",
        "d) $u_1, u_3$ are the basis vectors of H"
      ],
      "metadata": {
        "id": "fHOfjKtsAwqF"
      }
    },
    {
      "cell_type": "code",
      "source": [
        "import numpy as np\n"
      ],
      "metadata": {
        "id": "CHq6p3fiXPnw"
      },
      "execution_count": null,
      "outputs": []
    },
    {
      "cell_type": "markdown",
      "source": [
        "Ans:\n",
        "b,c,d\n",
        "\n",
        "$3u_1 - 2u_2 -u_3=0$ hence $u_1, u_2, u_3$ are linearly dependent and  only 2 out of these 3 are linearly independent and form the basis."
      ],
      "metadata": {
        "id": "Z360GNOGLYZG"
      }
    },
    {
      "cell_type": "code",
      "source": [
        "\n",
        "\n",
        "A = np.array([[2,6,-6],[3,1,7],[-1,0,-3]])\n",
        "\n",
        "u,s,v=np.linalg.svd(A)\n",
        "print(v)\n",
        "s=s[s>1e-16]\n",
        "print(f\"singular values:{s}\")\n",
        "x = np.array([3, -2, -1])\n",
        "print(A@x)"
      ],
      "metadata": {
        "colab": {
          "base_uri": "https://localhost:8080/"
        },
        "id": "WSHIZTurfZJs",
        "outputId": "45324611-69f3-4c6d-9a51-ac9d6aba0778"
      },
      "execution_count": null,
      "outputs": [
        {
          "output_type": "stream",
          "name": "stdout",
          "text": [
            "[[-0.05953099  0.37355202 -0.92569701]\n",
            " [ 0.59464184  0.75811912  0.26768728]\n",
            " [ 0.80178373 -0.53452248 -0.26726124]]\n",
            "singular values:[10.31863629  6.20691107]\n",
            "[0 0 0]\n"
          ]
        }
      ]
    },
    {
      "cell_type": "markdown",
      "source": [
        "---\n",
        "**Q3**\n",
        "\n",
        "Let $A=\\begin{bmatrix} 1 & -4 \\\\ 2 & -8 \\\\ -1 & 4 \\end{bmatrix}$\n",
        "\n",
        "Which of the following statements are correct:\n",
        "\n",
        "a) Row space has dimension 1\n",
        "\n",
        "b) Right Null space of $A$ has the basis set $\\{\\begin{bmatrix} 1 \\\\ 2 \\\\ -1 \\end{bmatrix}\\}$\n",
        "\n",
        "c) Left Null space has dimension 2\n",
        "\n",
        "d) Left null space has dimension 1"
      ],
      "metadata": {
        "id": "w616a1zQLgz7"
      }
    },
    {
      "cell_type": "markdown",
      "source": [
        "Ans:\n",
        "\n",
        "$A$ has rank 1. Hence\n",
        "\n",
        "a), c) are correct."
      ],
      "metadata": {
        "id": "sLlso3djqCpB"
      }
    },
    {
      "cell_type": "markdown",
      "source": [
        "---\n",
        "**Q4**\n",
        "\n",
        "Which of the following are True:\n",
        "\n",
        "a) If columns 1 & 3 of B are same, then so are columns 1 & 3 of AB\n",
        "\n",
        "b) If rows 1 & 3 of B are same, so are rows 1 & 3 of AB\n",
        "\n",
        "c) if rows 1 & 3 of A are same, then so are rows 1 & 3 of AB\n",
        "\n",
        "d) $(AB)^2 = A^2B^2$\n",
        "\n"
      ],
      "metadata": {
        "id": "PJPkYiSoqUHG"
      }
    },
    {
      "cell_type": "markdown",
      "source": [
        "Ans:\n",
        "\n",
        "If $B=[b_1\\ b_2\\ b_3\\ ...]$ then $AB=[Ab_1\\ Ab_2\\ Ab_3\\ ...]$\n",
        "\n",
        "If $A=\\begin{bmatrix} a_1 \\\\ a_2 \\\\ a_3 \\\\ ... \\end{bmatrix}$ then $AB=\\begin{bmatrix} a_1B \\\\ a_2B \\\\a_3B \\\\ ... \\end{bmatrix}$\n",
        "\n",
        "Hence a) and c) are true\n"
      ],
      "metadata": {
        "id": "pcEm4oriwGkI"
      }
    },
    {
      "cell_type": "markdown",
      "source": [
        "---\n",
        "**Q5**\n",
        "\n",
        "Which of the following are guaranteed to be equal to $(A+B)^2$\n",
        "\n",
        "a) $A^2 + 2AB + B^2$\n",
        "\n",
        "b) $A(A+B) + B(A+B)$\n",
        "\n",
        "c) $(A+B)(B+A)$\n",
        "\n",
        "d) $A^2+AB+BA+B^2$"
      ],
      "metadata": {
        "id": "zjMagvo3xMP-"
      }
    },
    {
      "cell_type": "markdown",
      "source": [
        "Ans:\n",
        "b, c, d"
      ],
      "metadata": {
        "id": "T0FUC4qSxksz"
      }
    },
    {
      "cell_type": "markdown",
      "source": [
        "---\n",
        "**Q6**\n",
        "\n",
        "If A is 3x5, B is 5x3, C is 5x1 and D is 3x1, which of the following matrix operations are allowed\n",
        "\n",
        "a) BA\n",
        "\n",
        "b) AB\n",
        "\n",
        "c) ABD\n",
        "\n",
        "d) A(B+C)"
      ],
      "metadata": {
        "id": "BJYCHirxxnie"
      }
    },
    {
      "cell_type": "markdown",
      "source": [
        "Ans:\n",
        "a), b), c)"
      ],
      "metadata": {
        "id": "97IWEJURyDm8"
      }
    },
    {
      "cell_type": "markdown",
      "source": [
        "---\n",
        "**Q7**\n",
        "\n",
        "Which of the following are True\n",
        "\n",
        "a) if $A^2$ is defined, then A is necessarily square\n",
        "\n",
        "b) if AB and BA are defined, then A & B are square\n",
        "\n",
        "c) if AB and BA are defined, then AB and BA are square\n",
        "\n",
        "d) If AB = B then A = I"
      ],
      "metadata": {
        "id": "FooHVN0TyYWy"
      }
    },
    {
      "cell_type": "markdown",
      "source": [
        "Ans:\n",
        "\n",
        "a), c)\n",
        "\n",
        "In case of d), we can only say that the columns of B are from the eigenspace of A corresponding to eigen value 1."
      ],
      "metadata": {
        "id": "l1yJx0uTytL-"
      }
    },
    {
      "cell_type": "markdown",
      "source": [
        "---\n",
        "**Q8**\n",
        "\n",
        "Which of the following are true\n",
        "\n",
        "a) If $L_1U_1 = L_2U_2$ with $L_1, L_2$ lower triangular with diagonal entries as 1 and $U_1, U_2$ with upper triangular with diagonal non-zero, then this LU factorization is unique (i.e. $L_1 = L_2$ and $U_1 = U_2$\n",
        "\n",
        "b) if $A^2 + A = I$ then $A^{-1} = A + I$\n",
        "\n",
        "c) If all diagonal entries of A are zero, then A is singular"
      ],
      "metadata": {
        "id": "FDcRUGPD0Zxl"
      }
    },
    {
      "cell_type": "markdown",
      "source": [
        "Ans:\n",
        "\n",
        "a), b)\n",
        "\n",
        "For c) an example: $A=\\begin{bmatrix} 0 & 1 \\\\ 1 & 0 \\end{bmatrix}$ is non-singular"
      ],
      "metadata": {
        "id": "h0RcD62hCAjG"
      }
    },
    {
      "cell_type": "markdown",
      "source": [
        "---\n",
        "**Q9**\n",
        "\n",
        "Let $A=\\begin{bmatrix} 1 & 1 \\\\ 0 & 2 \\end{bmatrix}$\n",
        "\n",
        "The singular values of $A$ in decreasing order are:\n",
        "\n",
        "\n"
      ],
      "metadata": {
        "id": "DnME4Oi2dG6d"
      }
    },
    {
      "cell_type": "markdown",
      "source": [
        "Ans:\n",
        "\n",
        "$\\sqrt{3+\\sqrt{5}}$, $\\sqrt{3-\\sqrt{5}}$"
      ],
      "metadata": {
        "id": "jQ7loTGhjMtb"
      }
    },
    {
      "cell_type": "code",
      "source": [
        "A = np.array([[1,1],\n",
        "              [0,2]])\n",
        "_,s,_ = np.linalg.svd(A)\n",
        "print(s, np.sqrt(3+np.sqrt(5)), np.sqrt(3-np.sqrt(5)))"
      ],
      "metadata": {
        "colab": {
          "base_uri": "https://localhost:8080/"
        },
        "id": "ggbQ0PZfYg-B",
        "outputId": "31233b99-0425-423a-c39a-3848e1a48190"
      },
      "execution_count": null,
      "outputs": [
        {
          "output_type": "stream",
          "name": "stdout",
          "text": [
            "[2.28824561 0.87403205] 2.288245611270737 0.8740320488976421\n"
          ]
        }
      ]
    },
    {
      "cell_type": "markdown",
      "source": [
        "**Q10**\n",
        "\n",
        "Let $A=\\begin{bmatrix} 1 & 0 & 0 \\\\ 0 & 1 & 0 \\\\ 1 &\n",
        " 1 & 0 \\end{bmatrix}$.\n",
        "\n",
        "and $b=\\begin{bmatrix} 2 \\\\ 2 \\\\ 2 \\end{bmatrix}$\n",
        "\n",
        "Then if $x_s = min_x ||Ax-b||$, the number of solutions which achieve minima is and the minimim norm solution is"
      ],
      "metadata": {
        "id": "1cAkvldTijCY"
      }
    },
    {
      "cell_type": "code",
      "source": [
        "A = np.array([\n",
        "    [1,0,1],\n",
        "    [0,1,1],\n",
        "    [0,0,0]\n",
        "])\n",
        "\n",
        "Q,R = np.linalg.qr(A)\n",
        "print(Q)\n",
        "print(R)\n",
        "\n",
        "b = np.array([2,2,2]).reshape(3,1)\n",
        "x = np.linalg.inv(R[:2,:2])@Q[:2,:2].T@b[:2]\n",
        "print(x)"
      ],
      "metadata": {
        "colab": {
          "base_uri": "https://localhost:8080/"
        },
        "id": "5SWwRZ__h19L",
        "outputId": "ea017960-55e8-42ec-d52b-089d3a6cc11e"
      },
      "execution_count": null,
      "outputs": [
        {
          "output_type": "stream",
          "name": "stdout",
          "text": [
            "[[1. 0. 0.]\n",
            " [0. 1. 0.]\n",
            " [0. 0. 1.]]\n",
            "[[1. 0. 1.]\n",
            " [0. 1. 1.]\n",
            " [0. 0. 0.]]\n",
            "[[2.]\n",
            " [2.]]\n"
          ]
        }
      ]
    }
  ]
}