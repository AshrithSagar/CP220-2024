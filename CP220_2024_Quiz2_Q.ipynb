{
  "cells": [
    {
      "cell_type": "markdown",
      "metadata": {
        "colab_type": "text",
        "id": "view-in-github"
      },
      "source": [
        "<a href=\"https://colab.research.google.com/github/AshrithSagar/CP220-M4RAS-2024/blob/main/CP220_2024_Quiz2_Q.ipynb\" target=\"_parent\"><img src=\"https://colab.research.google.com/assets/colab-badge.svg\" alt=\"Open In Colab\"/></a>"
      ]
    },
    {
      "cell_type": "markdown",
      "metadata": {
        "id": "Jq34pkM7-BOX"
      },
      "source": [
        "---\n",
        "**CP220-2024 Quiz2**\n",
        "\n",
        "Copy this notebook into your directory\n",
        "\n",
        "Please write the final answer using the form\n",
        "\n",
        "Also paste the link to your answer notebook using the same form\n",
        "\n",
        "The text cells for answers are optional - but might be useful for you to work through your solution\n",
        "\n",
        "(you can also write on paper and take a photo and upload your work)\n",
        "\n",
        "This could be useful in case there is a case for partial grading.\n",
        "\n",
        "The code cells are also optional but higly recommended as it will allow you to calculate the answers easily.\n"
      ]
    },
    {
      "cell_type": "code",
      "execution_count": null,
      "metadata": {
        "id": "GMcDWDZUILlp"
      },
      "outputs": [],
      "source": [
        "import numpy as np"
      ]
    },
    {
      "cell_type": "markdown",
      "metadata": {
        "id": "HgBXroJNITnn"
      },
      "source": [
        "---\n",
        "**Q1 (1pt)** <br>\n",
        "\n",
        "Let $A=\\begin{bmatrix} 1 & 1 \\\\ 0 & 2 \\end{bmatrix}$\n",
        "\n",
        "The singular values of $A$ in decreasing order are (include only one digit after decimal point):\n",
        "\n",
        "\n"
      ]
    },
    {
      "cell_type": "code",
      "execution_count": null,
      "metadata": {
        "id": "ggbQ0PZfYg-B"
      },
      "outputs": [],
      "source": [
        "#Ans\n",
        "A = np.array([[1,1],\n",
        "              [0,2]])\n",
        "#<Your code here>"
      ]
    },
    {
      "cell_type": "markdown",
      "metadata": {
        "id": "wImoHlUhmCez"
      },
      "source": [
        "---\n",
        "\n",
        "**Q2 (2pt)**\n",
        "\n",
        "Consider a unit square (vertices at (0.5,-0.5), (0.5,0.5),(-0.5,0.5), (-0.5,-0.5))\n",
        "\n",
        "It undergoes an arbitrary rotation and  the vertices end up as\n",
        "\n",
        "B = np.array(\n",
        "    [[-0.18,0.68,0.18,0.18],\n",
        " [-0.68,-0.18,0.68,0.68]]\n",
        ")\n",
        "\n",
        "Let R be the rotation matrix which results in this rotation.\n",
        "\n",
        "Then the elements of R[0,0], R[0,1], R[1,0], R[1,1] with upto 1 decimal precision after are:\n",
        "\n"
      ]
    },
    {
      "cell_type": "markdown",
      "metadata": {
        "id": "-KkOZ857pJAH"
      },
      "source": [
        "---\n",
        "\n",
        "Ans (explanation - optional):\n"
      ]
    },
    {
      "cell_type": "code",
      "execution_count": null,
      "metadata": {
        "id": "gMYB2I8xm55J"
      },
      "outputs": [],
      "source": [
        "A = np.array([[0.5,-0.5],[0.5,0.5],[-0.5,0.5],[-0.5,0.5]]).T\n",
        "\n",
        "B = np.array(\n",
        "    [[-0.18,0.68,0.18,0.18],\n",
        " [-0.68,-0.18,0.68,0.68]]\n",
        ")\n",
        "\n",
        "#<your code here>"
      ]
    },
    {
      "cell_type": "markdown",
      "metadata": {
        "id": "Ew6eDcXexEw5"
      },
      "source": [
        "---\n",
        "**Q3(2pt)**\n",
        "\n",
        "Find the geometric multiplicity for the eigen value of 3 for a matrix under the following conditions:\n",
        "\n",
        "a)  $A$ is  similar to  $\\begin{bmatrix} 3 & 0 & 0 &0 \\\\ 0 & 3 & 1 & 0  \\\\ 0 & 0 & 3 & 1 \\\\ 0 & 0 & 0 & 3 \\end{bmatrix}$\n",
        "\n",
        "b)  $A$ is  similar to  $\\begin{bmatrix} 3 & 1 & 0 &0 \\\\ 0 & 3 & 1 & 0  \\\\ 0 & 0 & 3 & 1 \\\\ 0 & 0 & 0 & 3 \\end{bmatrix}$\n",
        "\n",
        "c)  $A$ is  similar to  $\\begin{bmatrix} 3 & 1 & 0 &0 \\\\ 0 & 3 & 0 & 0  \\\\ 0 & 0 & 3 & 1 \\\\ 0 & 0 & 0 & 3 \\end{bmatrix}$\n",
        "\n",
        "d)  $A$ is  similar to  $\\begin{bmatrix} 3 & 0 & 0 &0 \\\\ 0 & 3 & 0 & 0  \\\\ 0 & 0 & 3 & 1 \\\\ 0 & 0 & 0 & 3 \\end{bmatrix}$\n"
      ]
    },
    {
      "cell_type": "markdown",
      "metadata": {
        "id": "q6Bl_0BFz_Zf"
      },
      "source": [
        "---\n",
        "\n",
        "Ans (explanation optional):\n",
        "\n"
      ]
    },
    {
      "cell_type": "code",
      "execution_count": null,
      "metadata": {
        "id": "lVC5aA2C0PW8"
      },
      "outputs": [],
      "source": [
        "#<your code here>"
      ]
    },
    {
      "cell_type": "markdown",
      "metadata": {
        "id": "nQd35ITvgiqF"
      },
      "source": [
        "---\n",
        "**Q4 (1.5 pts)**\n",
        "\n",
        "*Google's page rank algorithm*\n",
        "\n",
        "Let pages 1, 2, 3 be three web pages, with an outgoing hyperlink from page 1 to page 2, and page 2 to page 3 and and one link each to pages 1 and 2 from page 3. We can model this connectivity as a graph G of Vertices (V) and Edges (E) as follows:\n",
        "\n",
        "$V = \\{ 1, 2, 3\\}$\n",
        "\n",
        "$E \\in V \\times V = \\{(1,2), (2,3), (3,1), (3,2)\\}$\n",
        "\n",
        "The ajacency matrix representation of this graph is:\n",
        "\n",
        "$A = \\begin{bmatrix} 0 & 0 & 1\\\\ 1 & 0 & 1 \\\\ 0 & 1 & 0 \\end{bmatrix}$\n",
        "\n",
        "with the interpretation that rows and columns correspond to vertices 1,2,3 and $a_{ij}=1$ if there is an edge from node $j$ to node $i$ (i.e $(j,i) \\in E$)\n",
        "\n",
        "\n",
        "The weight of each outgoing edge from a vertex is just the 1 over the total number of outgoing edges from that vertex.\n",
        "\n",
        "$W_{ik} = \\frac{1}{\\sum_{k=1}^{k=3} I((k,i)\\in E)}$\n",
        "\n",
        "Here $I(cond) = 1$ if and only if $cond$ is True, otherwise it is 0.\n",
        "\n",
        "The weight adjacency matrix for the above web of pages can then be written as:\n",
        "\n",
        "$G=\\begin{bmatrix} 0 & 0 & 1/2 \\\\ 1 & 0 & 1/2 \\\\ 0 & 1 & 0 \\end{bmatrix}$ (i.e. columns are normalized to sum to 1)\n",
        "\n",
        "A person browsing the web, and looking at page $i$, will go out with equal chance through one of the hyperlinks of the page. For example, a person on web page 3, at the next time step, could land up in pages 1 and 2 with equal chance. Similarly, a person on web page 1, will go to page 2 and a person on page 2, will go to page 3.\n",
        "\n",
        "Let the initial chances of being in pages 1, 2, 3 be $\\pi_0 = \\begin{bmatrix} \\frac{1}{4} \\\\ \\frac{1}{4} \\\\ \\frac{1}{2} \\end{bmatrix}$,\n",
        "\n",
        "if $\\pi_t$ is the vector indicating the probabilities of being in different pages at time $t$ then the same at $t+1$ is:\n",
        "\n",
        "$\\pi_{t+1} = G \\pi_t$\n",
        "\n",
        "Given the initial vector $\\pi_0$ as above, what is $\\pi_∞$? (write answer in decmial notation with 1 digit precision after decimal point and first component being positive)\n",
        "\n",
        "\n",
        "(As an side, the values of $\\pi_∞$ give the page rank of web pages, which is then used to sort the pages and present to you on a web search)"
      ]
    },
    {
      "cell_type": "markdown",
      "metadata": {
        "id": "pjCfFwFlgzbf"
      },
      "source": [
        "Ans (explanation optional):\n",
        "\n"
      ]
    },
    {
      "cell_type": "code",
      "execution_count": null,
      "metadata": {
        "id": "SSDTC6nJhsPi"
      },
      "outputs": [],
      "source": [
        "G = np.array([[0,0,0.5],[1,0,0.5],[0,1,0]])\n",
        "#your code here"
      ]
    },
    {
      "cell_type": "markdown",
      "metadata": {
        "id": "1cAkvldTijCY"
      },
      "source": [
        "**Q5 (3.5pt)**\n",
        "\n",
        "Let $A=\\begin{bmatrix} 1 & 0 & 0 \\\\ 0 & 1 & 0 \\\\ 1 &\n",
        " 1 & 0 \\end{bmatrix}$.\n",
        "\n",
        "and $b=\\begin{bmatrix} 2 \\\\ 2 \\\\ 2 \\end{bmatrix}$\n",
        "\n",
        "Then if $x_s = min_x ||Ax-b||$,\n",
        "the number of solutions which achieve minima is ________<br>\n",
        "and the minimim norm solution is: [\\__,\\__,\\__]"
      ]
    },
    {
      "cell_type": "markdown",
      "metadata": {
        "id": "GgAcePGAW2Ix"
      },
      "source": [
        "---\n",
        "\n",
        "Ans (explanation optional):\n",
        "\n"
      ]
    },
    {
      "cell_type": "code",
      "execution_count": null,
      "metadata": {
        "id": "5SWwRZ__h19L"
      },
      "outputs": [],
      "source": [
        "A = np.array([\n",
        "    [1,1,0],\n",
        "    [0,1,1],\n",
        "    [1,2,1]\n",
        "])\n",
        "\n",
        "#your code here"
      ]
    },
    {
      "cell_type": "markdown",
      "metadata": {
        "id": "xr8TLYPBZH8j"
      },
      "source": [
        "---\n",
        "**Q6 (1.5pts)**\n",
        "\n",
        "Let $F$ be a subspace spanned by $\\{\\begin{bmatrix} 1 \\\\ 0 \\\\ 1 \\end{bmatrix}, \\begin{bmatrix} 0 \\\\ 1 \\\\ 1 \\end{bmatrix}\\}$.\n",
        "\n",
        "Let $G$ be a subspace spanned by $\\{\\begin{bmatrix} 1 \\\\ 0 \\\\ 0 \\end{bmatrix}, \\begin{bmatrix} 0 \\\\ 1 \\\\ 0 \\end{bmatrix}, \\begin{bmatrix} 0 \\\\ 0 \\\\ 2 \\end{bmatrix}\\}$\n",
        "\n",
        "The unit vector in G which is orthogoal  to F is given by: _______\n"
      ]
    },
    {
      "cell_type": "markdown",
      "metadata": {
        "id": "lijd4TFjarh1"
      },
      "source": [
        "---\n",
        "Ans (explanation optional)\n",
        "\n",
        "\n"
      ]
    },
    {
      "cell_type": "code",
      "execution_count": null,
      "metadata": {
        "id": "d78WCmeZQmpT"
      },
      "outputs": [],
      "source": [
        "F = np.array([[1,0,0],[0,1,0],[1,1,0]])\n",
        "G = np.array([[1,0,0],[0,1,0],[0,0,2]])\n",
        "#your code here"
      ]
    }
  ],
  "metadata": {
    "colab": {
      "include_colab_link": true,
      "provenance": []
    },
    "kernelspec": {
      "display_name": "Python 3",
      "name": "python3"
    },
    "language_info": {
      "name": "python"
    }
  },
  "nbformat": 4,
  "nbformat_minor": 0
}
