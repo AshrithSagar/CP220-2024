{
  "cells": [
    {
      "cell_type": "markdown",
      "metadata": {
        "colab_type": "text",
        "id": "view-in-github"
      },
      "source": [
        "<a href=\"https://colab.research.google.com/github/AshrithSagar/CP220-M4RAS-2024/blob/main/4_hw_cp220_Q.ipynb\" target=\"_parent\"><img src=\"https://colab.research.google.com/assets/colab-badge.svg\" alt=\"Open In Colab\"/></a>"
      ]
    },
    {
      "cell_type": "markdown",
      "metadata": {
        "id": "tQIo-fxKL9Kf"
      },
      "source": [
        "**Topics**\n",
        "\n",
        "Determinants<br>\n",
        "Minors & Cofactors<br>\n",
        "Block Matrices <br>\n",
        "Eigenvalues & Eigenvectors <br>\n",
        "Matrix Powers and Exponential <br>\n",
        "Trace<br>\n"
      ]
    },
    {
      "cell_type": "markdown",
      "metadata": {
        "id": "4wtJA2EShZlx"
      },
      "source": [
        "---\n",
        "**Determinants**\n",
        "\n",
        "We will assume $A$ is a square $nxn$ matrix in the following unless otherwise stated.\n",
        "\n",
        "We will use the notation $|A| := determinant(A)$\n",
        "\n",
        "Geometrically, $|A|$ represents the volume of the parallelopiped formed by columns of A (or rows of A).\n",
        "\n",
        "So for the identity matrix $I$, the column vectors are the  unit orthogonal vectors which forms a hypercube of volume 1.\n",
        "\n",
        "So we will ask for the following properties for the determinant:\n",
        "\n",
        "I) Determinant of identity matrix is 1. i.e $|I| = 1$\n",
        "\n",
        "II) When exchanging two rows of a matrix, the determinant changes sign.\n",
        "\n",
        "*III*) The determinant is linear in the first row of the matrix.\n",
        "\n",
        "i.e if $A = \\begin{bmatrix} \\lambda a_1^T + \\mu b_1^T \\\\ a_2^T \\\\ ... \\\\ a_n^T \\end{bmatrix}$ then\n",
        "\n",
        "$|A| = \\lambda\\begin{vmatrix} a_1^T \\\\ a_2^T \\\\ ...\\\\a_n^T \\end{vmatrix} + \\mu \\begin{vmatrix} b_1^T \\\\ a_2^T \\\\ ... \\\\ a_n^T \\end{vmatrix}$\n",
        "\n",
        "\n",
        "using these properties, we can derive all other properties as well as the formula for the determinant!\n"
      ]
    },
    {
      "cell_type": "markdown",
      "metadata": {
        "id": "-Niq1SzGk7_z"
      },
      "source": [
        "---\n",
        "4.  $|A|$ is linear in any row.\n",
        "\n",
        "Proof: from II & III\n",
        "\n",
        "5. If $A$ has a row of all 0, then $|A|=0$\n",
        "\n",
        "Proof; from II & III\n",
        "\n",
        "6. If $A = diag(d_1, d_2, ..., d_n)$, $|A| = \\prod_{i=1}^n d_i$\n",
        "\n",
        "Proof: By 4, we can factor out $d_i$ from each row in a step by step fashion resulting in a matrix with product of diagonals and identity. the latter has determinant 1 by definition of I.\n",
        "\n",
        "7. If $A$ is triangular with non-zero diagonals $d_1, d_2, ..., d_n$ then $|A| = \\prod_{i=1}^n d_i$\n",
        "\n",
        "Proof: With row elimination, put $A$ in diagonal form $D=diag(d_1, d_2, ... ,d_n)$. Note since row elimination is linear combination of rows, from 4 & 6, |A| = |D|\n",
        "\n",
        "8. If two rows are equal, then determinant is 0.\n",
        "\n",
        "Proof: By row exchange of two equal rows, sign changes, but matrix remains same means $-|A| = |A|$. Hence $|A|=0$\n",
        "\n",
        "9. A matrix with linearly dependant rows has determinant 0.\n",
        "\n",
        "Proof: By replacing the dependent row as a linear combination of other rows and using III and 9 above, $|A|=0$\n",
        "\n",
        "10. A singular matrix (linearly dependent rows) has determinant 0.\n",
        "\n",
        "11. $|cA| = c^n|A|$\n",
        "\n",
        "Proof: $cA$ has each element multiplied by $c$. By II & III, we get the results.\n",
        "\n",
        "12. $|LB| = |BU|=|B|$ where L, U are lower and upper triangular with all 1s in the diagonal.\n",
        "\n",
        "Proof: $LB = B{'}$ where each row of $B^{'}$ has linear combination of rows of B above it. From 4 & 8 this follows. Same argument for multiplying with U.\n",
        "\n",
        "13. $|DB| = (\\prod_{i=1}^nd_{ii}) |B|$ where D is diagonal\n",
        "\n",
        "Proof: Follows from III\n",
        "\n",
        "14. If $P$ is a permutation matrix $|P| = \\pm 1$\n",
        "\n",
        "Proof: Any permutation matrix is derived from row exchanges of Identity matrix. With even row exchanges, sign is positive and with odd, it is negative.\n",
        "\n",
        "15. $|AB|=|A||B|$\n",
        "\n",
        "Proof:\n",
        "If $A$ is singular, $|A| =0$ from 9. Also $AB$ is singular and hence $|AB|=0$\n",
        "\n",
        "Otherwise we can uniquely write $PA=LDU$ where $P$ is a permutation matrix, L, U are lower and upper triangular with 1s in the diagonal and D is diagonal with non-zeros. Hence from 12, 13, 14, result follows.\n",
        "\n",
        "16. $|A| = |A^T|$\n",
        "\n",
        "Proof: If A is singular, so is $A^T$ and both determinant are 0.\n",
        "\n",
        "If A is non-singular, then $PA=LDU$ and $|A| = |D|$ and $|A^TP^T| = |U^TDL^T|$ and $|A^T|=|D|$\n",
        "\n"
      ]
    },
    {
      "cell_type": "markdown",
      "metadata": {
        "id": "eU_Luw8ozsy2"
      },
      "source": [
        "---\n",
        "**Formula for determinant**\n",
        "\n",
        "Let $A=\\begin{bmatrix} a_{11} & a_{12} & ... & a_{1n} \\\\ a_{21} & a_{22} & ... & a_{2n} \\\\ ... \\\\ a_{n1} & a_{n2} & ... & a_{nn} \\end{bmatrix}$\n",
        "\n",
        "Let $e_i$ be a row vector with 1 in $i^{th}$ column and zero everywhere.\n",
        "\n",
        "Then any row $a_{i:} = \\sum_{j=1}^n a_{ij}e_j$\n",
        "\n",
        "\n",
        "\n",
        "So from III  $|A| = \\sum_{j=1}^n a_{ij} |A_{ij}|$ where $A_{ij}$ has $j^{th}$ row replaced by the elementary row vector $e_j$\n",
        "\n",
        "This can be done recursively to get |A| as a linear combination of $n^n$ scale factors times determinants of matrices with only elementary row vectors. Of these, only $n!$ of these matrices have non-zero determinants - precisely all the permutation matrices. All others will ahve repeated elementary rows and hence zero determinant.\n",
        "\n",
        "Hence $|A| = \\sum_\\sigma sign(\\sigma) \\prod_{i=1}^n a_{i\\sigma(i)}$\n",
        "\n",
        "where $\\sigma : \\{1,2,..,n\\} → \\{1,2,...,n\\}$ is a permutation and $sign(\\sigma)$ is the positive(negative) if a composition of even(odd) number of binary exchanges give the permutation.\n",
        "\n",
        "Example: $\\begin{vmatrix} a & b \\\\ c & d \\end{vmatrix} = ac-bd$\n"
      ]
    },
    {
      "cell_type": "markdown",
      "metadata": {
        "id": "z7yAPA0l5vcV"
      },
      "source": [
        "---\n",
        "**Q1**\n",
        "\n",
        "If $P$ is a $nxn$ permutation matrix with '1s' in the reverse diagonal, what is $|P|$"
      ]
    },
    {
      "cell_type": "markdown",
      "metadata": {
        "id": "d-KhxwSz5_8N"
      },
      "source": [
        "Ans:\n",
        "\n",
        "Let $P_{n\\times n} = \\begin{bmatrix} 0 & 0 & \\cdots & 1 \\\\ 0 & 0 & \\cdots & 0 \\\\ \\vdots & \\vdots & \\ddots & \\vdots \\\\ 1 & 0 & \\cdots & 0 \\end{bmatrix}_{n\\times n}$\n",
        "\n",
        "Then, we can see that, with cofactors $C_{ij}$, by expanding along the first row, that\n",
        "\\begin{align*}\n",
        "    \\det(P_{n\\times n})\n",
        "    & =\n",
        "    \\sum_{j=1}^n a_{1j} C_{1j}\n",
        "    \\\\ & =\n",
        "    a_{1n} C_{1n} + \\sum_{j=1}^{n-1} a_{1j} C_{1j}\n",
        "    \\\\ & =\n",
        "    1 \\cdot (-1)^{1+n} \\cdot \\det(P_{n-1\\times n-1})\n",
        "    \\\\\n",
        "    \\implies\n",
        "    |P_{n\\times n}|\n",
        "    & =\n",
        "    (-1)^{n+1} \\cdot |P_{n-1\\times n-1}|\n",
        "\\end{align*}\n",
        "which is a recurrence relation.\n",
        "For $n=1 \\implies |P_{1\\times 1}| = 1$.\n",
        "Thereby, we have\n",
        "\\begin{align*}\n",
        "    |P_{n\\times n}|\n",
        "    & = |P_{1\\times 1}| \\prod_{i=2}^n (-1)^{i+1}\n",
        "    = \\prod_{i=1}^n (-1)^{i+1}\n",
        "    = -\\prod_{i=1}^n (-1)^{i}\n",
        "    = -(-1)^{\\frac{n(n+1)}{2}}\n",
        "\\end{align*}\n",
        "\n",
        "\\begin{equation*}\n",
        "    \\implies\n",
        "    \\boxed{\n",
        "    |P_{n\\times n}|\n",
        "    = -(-1)^{\\frac{n(n+1)}{2}}\n",
        "    }\n",
        "\\end{equation*}\n",
        "\n",
        "Other forms of this expression are, for integer $n$, $(-1)^{\\lfloor \\frac{n}{2} \\rfloor}$ and $\\cos\\Big(\\frac{n(n+1)\\pi}{2}\\Big)$.\n",
        "\n",
        "Alternatively, we can also see that $|P| = \\pm 1$ depending on the number of row exchanges required to convert it to the identity matrix.\\\n",
        "We can show that the number of row exchanges required is $\\frac{n(n-1)}{2}$, which is even if $n$ is even and odd if $n$ is odd.\\\n",
        "Thereby, $|P| = (-1)^{\\frac{n(n-1)}{2}}$\n"
      ]
    },
    {
      "cell_type": "markdown",
      "metadata": {
        "id": "eyjS-zv17T4R"
      },
      "source": [
        "---\n",
        "**Q2**\n",
        "\n",
        "Let $v = [v_1, v_2, ..., v_n]^T$. Find |vv^T|.\n"
      ]
    },
    {
      "cell_type": "markdown",
      "metadata": {
        "id": "g0dJIAlB7ok-"
      },
      "source": [
        "Ans:\n",
        "\n",
        "\\begin{equation*}\n",
        "    \\implies\n",
        "    \\mathbf{v}\\mathbf{v}^T\n",
        "    =\n",
        "    \\begin{bmatrix}\n",
        "        v_1 \\\\ v_2 \\\\ \\vdots \\\\ v_n\n",
        "    \\end{bmatrix}\n",
        "    \\begin{bmatrix}\n",
        "        v_1 & v_2 & \\cdots & v_n\n",
        "    \\end{bmatrix}\n",
        "    =\n",
        "    \\begin{bmatrix}\n",
        "        v_1v_1 & v_1v_2 & \\cdots & v_1v_n \\\\\n",
        "        v_2v_1 & v_2v_2 & \\cdots & v_2v_n \\\\\n",
        "        \\vdots & \\vdots & \\ddots & \\vdots \\\\\n",
        "        v_nv_1 & v_nv_2 & \\cdots & v_nv_n\n",
        "    \\end{bmatrix}\n",
        "\\end{equation*}\n",
        "\n",
        "It is possible to see that, by taking out the common factors from each of the rows,\n",
        "\\begin{equation*}\n",
        "    \\det(\\mathbf{v}\\mathbf{v}^T)\n",
        "    =\n",
        "    v_1 v_2 \\cdots v_n\n",
        "    \\begin{vmatrix}\n",
        "        v_1 & v_2 & \\cdots & v_n \\\\\n",
        "        v_1 & v_2 & \\cdots & v_n \\\\\n",
        "        \\vdots & \\vdots & \\ddots & \\vdots \\\\\n",
        "        v_1 & v_2 & \\cdots & v_n \\\\\n",
        "    \\end{vmatrix}\n",
        "    = 0\n",
        "\\end{equation*}\n",
        "from the property that if any two rows are equal implies the determinant is zero.\n",
        "\n",
        "$\\therefore \\boxed{\\det(\\mathbf{v}\\mathbf{v}^T) = 0}$\n"
      ]
    },
    {
      "cell_type": "markdown",
      "metadata": {
        "id": "iP_oy1jP70Ez"
      },
      "source": [
        "---\n",
        "**Q3**\n",
        "\n",
        "If $|A| \\neq 0$, what is $|A^{-1}|$"
      ]
    },
    {
      "cell_type": "markdown",
      "metadata": {
        "id": "0bmJozbp7_xN"
      },
      "source": [
        "Ans:\n",
        "\n",
        "We have $\\mathbf{A} \\mathbf{A}^{-1} = \\mathbf{I}$, by definition of the inverse.\n",
        "\n",
        "Since the determinant of the product of two matrices is the product of the determinants of the matrices, we have\n",
        "\\begin{equation*}\n",
        "    \\implies\n",
        "    |\\mathbf{A} \\mathbf{A}^{-1}| = |\\mathbf{A}| |\\mathbf{A}^{-1}| = |\\mathbf{I}| = 1\n",
        "\\end{equation*}\n",
        "\n",
        "\\begin{equation*}\n",
        "    \\therefore\n",
        "    \\boxed{\n",
        "    |\\mathbf{A}^{-1}|\n",
        "    = \\frac{1}{|\\mathbf{A}|},\n",
        "    \\quad\n",
        "    \\text{provided }\n",
        "    |\\mathbf{A}| \\neq 0\n",
        "    }\n",
        "\\end{equation*}\n"
      ]
    },
    {
      "cell_type": "markdown",
      "metadata": {
        "id": "Dbfzc5j28auk"
      },
      "source": [
        "---\n",
        "**Q4**\n",
        "\n",
        "If $Q$ is a orthogonal matrix, find $|Q|$"
      ]
    },
    {
      "cell_type": "markdown",
      "metadata": {
        "id": "2MNV6Tsi8hqL"
      },
      "source": [
        "Ans:\n",
        "\n",
        "Since $\\mathbf{Q}$ is orthogonal, we have $\\mathbf{Q}^T \\mathbf{Q} = \\mathbf{I}$, by definition.\n",
        "\n",
        "Now, $|\\mathbf{Q}^T\\mathbf{Q}| = |\\mathbf{Q}^T| |\\mathbf{Q}| = |\\mathbf{I}| = 1$.\n",
        "\n",
        "Since $|\\mathbf{Q}^T| = |\\mathbf{Q}|$, we have $|\\mathbf{Q}|^2 = 1$.\n",
        "\n",
        "$\n",
        "    \\therefore\n",
        "    \\boxed{\n",
        "    |\\mathbf{Q}|\n",
        "    = \\pm 1\n",
        "    }\n",
        "$"
      ]
    },
    {
      "cell_type": "markdown",
      "metadata": {
        "id": "0tzRcPkK830w"
      },
      "source": [
        "---\n",
        "**Q5**\n",
        "\n",
        "What is $\\begin{vmatrix} 1 & a & a^2 \\\\ 1 & b & b^2 \\\\ 1 & c & c^2\\end{vmatrix}$ the vandermonde matrix?"
      ]
    },
    {
      "cell_type": "markdown",
      "metadata": {
        "id": "y9Firot29EOS"
      },
      "source": [
        "Ans:\n",
        "\n",
        "Expanding along the first row, we have\n",
        "\n",
        "\\begin{align*}\n",
        "    \\implies\n",
        "    \\begin{vmatrix} 1 & a & a^2 \\\\ 1 & b & b^2 \\\\ 1 & c & c^2\\end{vmatrix}\n",
        "    & = 1 \\begin{vmatrix} b & b^2 \\\\ c & c^2\\end{vmatrix} - a \\begin{vmatrix} 1 & b^2 \\\\ 1 & c^2\\end{vmatrix} + a^2 \\begin{vmatrix} 1 & b \\\\ 1 & c\\end{vmatrix}\n",
        "    \\\\ & = (b c^2 - b^2 c) - a (c^2 - b^2) + a^2 (c - b)\n",
        "    \\\\ & = b c^2 - b^2 c - a c^2 + a b^2 + a^2 c - a^2 b\n",
        "    \\\\ & = bc (c - b) - a(c - b)(c + b) + a^2(c - b)\n",
        "    \\\\ & = (c - b)(bc - a(c + b) + a^2)\n",
        "    \\\\ & = (c - b)(bc - ac - ab + a^2)\n",
        "    \\\\ & = (c - b)(a - b)(a - c)\n",
        "    \\\\ & = \\boxed{ (b - a)(c - a)(c - b) }\n",
        "\\end{align*}\n",
        "\n",
        "In general, we have\n",
        "\\begin{equation*}\n",
        "    \\begin{vmatrix}\n",
        "    1 & a_1 & a_1^2 & \\cdots & a_1^{n-1} \\\\\n",
        "    1 & a_2 & a_2^2 & \\cdots & a_2^{n-1} \\\\\n",
        "    \\vdots & \\vdots & \\vdots & \\ddots & \\vdots \\\\\n",
        "    1 & a_n & a_n^2 & \\cdots & a_n^{n-1}\n",
        "    \\end{vmatrix} \n",
        "    =\n",
        "    \\prod_{1 \\leq i < j \\leq n} (a_j - a_i)\n",
        "\\end{equation*}\n"
      ]
    },
    {
      "cell_type": "markdown",
      "metadata": {
        "id": "9uz8t018-TM9"
      },
      "source": [
        "---\n",
        "**Q6**\n",
        "\n",
        "For which values of $\\lambda$ is $|A-\\lambda I| = \\begin{vmatrix} 4-\\lambda & 2 \\\\ 1 & 3 - \\lambda \\end{vmatrix}=0$"
      ]
    },
    {
      "cell_type": "markdown",
      "metadata": {
        "id": "AlMZWwjS-k_7"
      },
      "source": [
        "Ans:\n",
        "\n",
        "The determinant in focus is the characteristic polynomial of the matrix $\\mathbf{A}$.\n",
        "The eigenvalues of the matrix are the roots of the characteristic polynomial.\n",
        "For a $2\\times 2$ matrix, the characteristic polynomial is given by $|\\mathbf{A}-\\lambda \\mathbf{I}| = \\lambda^2 - \\operatorname{trace}(\\mathbf{A})\\lambda + \\det \\mathbf{A}$.\n",
        "\n",
        "Further, the trace of the matrix is the sum of the diagonal elements, which is also the sum of the eigenvalues.\n",
        "The determinant of the matrix is the product of the eigenvalues.\n",
        "Assuming $ \\lambda_1, \\lambda_2 $ are the eigenvalues of the matrix $\\mathbf{A}$, we have $ \\lambda_1 + \\lambda_2 = \\operatorname{trace}(\\mathbf{A}) $ and $ \\lambda_1 \\lambda_2 = \\det \\mathbf{A} $.\n",
        "\n",
        "$ \\implies \\lambda_1 + \\lambda_2 = 7 $ and $ \\lambda_1 \\lambda_2 = 10 $\n",
        "\n",
        "$ \\implies \\lambda^2 - 7\\lambda + 10 = 0 \\implies (\\lambda - 5)(\\lambda - 2) = 0 \\implies \\lambda \\in \\{ 5, 2 \\} $\n",
        "\n",
        "Hence, the eigenvalues are 5 and 2.\n",
        "Thereby, the values of $ \\lambda $ for which $ |A - \\lambda I| = 0 $ are $\\boxed{5, 2}$.\n"
      ]
    },
    {
      "cell_type": "markdown",
      "metadata": {
        "id": "mlQuIM7U__9H"
      },
      "source": [
        "---\n",
        "**Q7**\n",
        "\n",
        "Write python code to find a 4x4 matrix with only 0 or 1 and having the largest determinant"
      ]
    },
    {
      "cell_type": "markdown",
      "metadata": {},
      "source": [
        "Ans:\n",
        "\n",
        "The given problem is one example in an open problem known as the *Hadamard's maximal determinant problem*, which asks for the largest determinant of a matrix with elements equal to 1 or −1, or equivalently, with just 0 or 1.\n"
      ]
    },
    {
      "cell_type": "markdown",
      "metadata": {
        "id": "s1T9jGeBbMeD"
      },
      "source": [
        "---\n",
        "We will use the popular numerical linear algebra package numpy\n",
        "https://numpy.org/doc/stable/user/index.html\n",
        "The above website has documentation, tutorials etc.\n"
      ]
    },
    {
      "cell_type": "code",
      "execution_count": 1,
      "metadata": {
        "id": "fJZykwE8aNrm"
      },
      "outputs": [],
      "source": [
        "#import the package for numerical linear algebra computations in Python\n",
        "import numpy as np"
      ]
    },
    {
      "cell_type": "code",
      "execution_count": 2,
      "metadata": {},
      "outputs": [],
      "source": [
        "from itertools import product\n",
        "\n",
        "np.random.seed(42)\n",
        "\n",
        "\n",
        "def find_max_determinant(d):\n",
        "    max_determinant = 0\n",
        "    for matrix in product([0, 1], repeat=d * d):\n",
        "        matrix = np.array(matrix).reshape(d, d)\n",
        "        determinant = np.linalg.det(matrix)\n",
        "        if determinant > max_determinant:\n",
        "            max_determinant = determinant\n",
        "    return max_determinant\n",
        "\n",
        "\n",
        "def find_max_determinant_random(d, num_samples=1000000):\n",
        "    max_determinant = 0\n",
        "    for _ in range(num_samples):\n",
        "        matrix = np.random.randint(0, 2, size=(d, d))\n",
        "        determinant = np.linalg.det(matrix)\n",
        "        if determinant > max_determinant:\n",
        "            max_determinant = determinant\n",
        "    return max_determinant"
      ]
    },
    {
      "cell_type": "code",
      "execution_count": 3,
      "metadata": {
        "colab": {
          "base_uri": "https://localhost:8080/"
        },
        "id": "uYADJfdNdpYp",
        "outputId": "5916aba6-804f-44d7-876e-2a553c33c158"
      },
      "outputs": [
        {
          "name": "stdout",
          "output_type": "stream",
          "text": [
            "3.0000000000000004\n"
          ]
        }
      ],
      "source": [
        "# Code to find largest determinant for a 4x4 matrix with only 1's and 0's\n",
        "d = 4\n",
        "max = 2**d - 1\n",
        "maxdet = find_max_determinant_random(d)\n",
        "print(maxdet)"
      ]
    },
    {
      "cell_type": "code",
      "execution_count": 4,
      "metadata": {
        "colab": {
          "base_uri": "https://localhost:8080/"
        },
        "id": "cvesxbSkkNXe",
        "outputId": "642db3b6-38e3-488c-f4f8-13e6e93f7d03"
      },
      "outputs": [
        {
          "name": "stdout",
          "output_type": "stream",
          "text": [
            "5.000000000000001\n"
          ]
        }
      ],
      "source": [
        "#Code to find largest determinant for a 4x4 matrix with only 1's and 0's\n",
        "d = 5\n",
        "max = 2**d - 1\n",
        "maxdet = find_max_determinant_random(d)\n",
        "print(maxdet)"
      ]
    },
    {
      "cell_type": "code",
      "execution_count": 5,
      "metadata": {
        "colab": {
          "base_uri": "https://localhost:8080/",
          "height": 250
        },
        "id": "JGeKh-iTkxfR",
        "outputId": "ce720b2e-86d0-454a-88a1-d4b9adb747dd"
      },
      "outputs": [
        {
          "name": "stdout",
          "output_type": "stream",
          "text": [
            "9.000000000000002\n"
          ]
        }
      ],
      "source": [
        "d = 6\n",
        "max = 2**d - 1\n",
        "maxdet = find_max_determinant_random(d)\n",
        "print(maxdet)"
      ]
    },
    {
      "cell_type": "markdown",
      "metadata": {
        "id": "IFwUuC7Kn0o5"
      },
      "source": [
        "---\n",
        "**Minors and Cofactors**\n",
        "\n",
        "$M_{ij}$ is a minor of $A$ and is a sub-matrix with $(n-1) x (n-1)$ with row $i$ and column $j$ of A removed.\n",
        "\n",
        "$C_{ij} = (-1)^{i+j}|M_{ij}|$ is the cofactor\n",
        "\n",
        "Determinant can be computed using any row (or column)\n",
        "\n",
        "For example with $i^{th}$ row, it is:\n",
        "$|A| = \\sum_{j=1}^n a_{ij}C_{ij}$\n",
        "\n",
        "\n"
      ]
    },
    {
      "cell_type": "markdown",
      "metadata": {
        "id": "C-s6_WFLo5Y-"
      },
      "source": [
        "**Q8**\n",
        "\n",
        "Find the $|B|$ using cofactor approach\n",
        "$B = \\begin{bmatrix} 0 & 0 & 1 & 2 \\\\ 0 & 3 & 4 & 5 \\\\ 6 & 7 & 8 & 9 \\\\ 0 & 0 & 0 & 1\\end{bmatrix}$\n",
        "\n",
        "and check via numpy."
      ]
    },
    {
      "cell_type": "markdown",
      "metadata": {
        "id": "9lIW6b-Wp0wX"
      },
      "source": [
        "Ans:\n",
        "\n",
        "We shall compute the determinant of the matrix $\\mathbf{B}$ using the cofactor approach along the first row.\n",
        "\\begin{align*}\n",
        "    \\implies\n",
        "    |\\mathbf{B}| \n",
        "    & = \n",
        "    \\sum_{j=1}^4 b_{1j} C_{1j}\n",
        "    \\\\ & = \n",
        "    \\cancel{0 \\cdot C_{11}} + \\cancel{0 \\cdot C_{12}} + 1 \\cdot C_{13} + 2 \\cdot C_{14}\n",
        "    \\\\ & =\n",
        "    1 \\begin{vmatrix} 0 & 3 & 5 \\\\ 6 & 7 & 9 \\\\ 0 & 0 & 1 \\end{vmatrix}\n",
        "    - \\cancel{2 \\begin{vmatrix} 0 & 3 & 4 \\\\ 6 & 7 & 8 \\\\ 0 & 0 & 0 \\end{vmatrix}}\n",
        "    \\\\ & =\n",
        "    1 \\left( \\cancel{0 \\cdot \\begin{vmatrix} 7 & 9 \\\\ 0 & 1 \\end{vmatrix}} - 3 \\cdot \\begin{vmatrix} 6 & 9 \\\\ 0 & 1 \\end{vmatrix} + \\cancel{5 \\cdot \\begin{vmatrix} 6 & 7 \\\\ 0 & 0 \\end{vmatrix}} \\right)\n",
        "    \\\\ & =\n",
        "    - 3 \\cdot 6\n",
        "    = \\boxed{-18}\n",
        "\\end{align*}"
      ]
    },
    {
      "cell_type": "code",
      "execution_count": 6,
      "metadata": {
        "colab": {
          "base_uri": "https://localhost:8080/"
        },
        "id": "S_lN1AKLpn__",
        "outputId": "896ab40a-19e8-4171-b708-20f5e1940d54"
      },
      "outputs": [
        {
          "name": "stdout",
          "output_type": "stream",
          "text": [
            "-17.999999999999996\n"
          ]
        }
      ],
      "source": [
        "B = np.array([[0, 0, 1, 2], [0, 3, 4, 5], [6, 7, 8, 9], [0, 0, 0, 1]])\n",
        "det_B = np.linalg.det(B)\n",
        "print(det_B)"
      ]
    },
    {
      "cell_type": "markdown",
      "metadata": {
        "id": "3K2JBysvq97P"
      },
      "source": [
        "---\n",
        "**Q9**\n",
        "\n",
        "$A_1 = [1]$\n",
        "\n",
        "$A_2 = \\begin{bmatrix} 1 & 1 \\\\ 1 & 1 \\end{bmatrix}$\n",
        "\n",
        "$A_3 = \\begin{bmatrix} 1 & 1 & 0 \\\\ 1 & 1 & 1 \\\\ 0 & 1 & 1 \\end {bmatrix}$\n",
        "\n",
        "and so on, with the matrices being tri-diagonal (i.e only 1s in the main and upper and lower diagonal\n",
        "\n",
        "a) Find $D_n = |A_n|$ by expanding via co-factors\n",
        "\n",
        "b) Find $D_{1000} = |A_{1000}|$ by finding $D_1, D_2, ... D_8$ and guessing the pattern\n"
      ]
    },
    {
      "cell_type": "markdown",
      "metadata": {
        "id": "XjxgQvPorr3l"
      },
      "source": [
        "Ans:\n",
        "\n",
        "a)\n",
        "Let $D_n = |\\mathbf{A}_n|$ as defined above.\n",
        "Computing the determinant of the matrix $\\mathbf{A}_n$ using the cofactor approach along the first row, we have\n",
        "\\begin{align*}\n",
        "    \\implies\n",
        "    |\\mathbf{A}_n|\n",
        "    & = \\sum_{j=1}^n a_{1j} C_{1j}\n",
        "    \\\\ & = 1 \\cdot C_{11} + 1 \\cdot C_{12} + \\cancel{0 \\cdot C_{13} + \\cdots + 0 \\cdot C_{1n}}\n",
        "    \\\\ & = C_{11} + C_{12}\n",
        "\\end{align*}\n",
        "\n",
        "We can observe that $C_{11} = D_{n-1}$ by inspection.\\\n",
        "For $C_{12}$, we can see that by expanding along the first column of the minor $\\mathbf{M}_{12}$ for evaluating $|\\mathbf{M}_{12}|$, we have\n",
        "\\begin{align*}\n",
        "    C_{12}\n",
        "    & = (-1)^{1+2} |\\mathbf{M}_{12}|\n",
        "    = -1 \\cdot (D_{n-2} - 1 \\cdot 0)\n",
        "    = -D_{n-2}\n",
        "\\end{align*}\n",
        "\n",
        "Thereby, we get a recurrence relation for the determinant of the matrix $\\mathbf{A}_n$ as\n",
        "\\begin{equation*}\n",
        "    \\boxed{\n",
        "        D_n = D_{n-1} - D_{n-2}\n",
        "    }\n",
        "\\end{equation*}\n",
        "\n",
        "We have $D_1 = 1$ and $D_2 = \\begin{vmatrix} 1 & 1 \\\\ 1 & 1 \\end{vmatrix} = 0$ as the base cases.\n",
        "\n",
        "b)\n",
        "Using the recurrence relation, we can find the determinants of the matrices $\\mathbf{A}_n$ for $n = 1, 2, \\ldots, 8$ as follows:\n",
        "\\begin{align*}\n",
        "    D_1 & = 1\n",
        "    \\\\\n",
        "    D_2 & = 0\n",
        "    \\\\\n",
        "    D_3 & = D_2 - D_1 = -1\n",
        "    \\\\\n",
        "    D_4 & = D_3 - D_2 = -1\n",
        "    \\\\\n",
        "    D_5 & = D_4 - D_3 = 0\n",
        "    \\\\\n",
        "    D_6 & = D_5 - D_4 = 1\n",
        "    \\\\\n",
        "    D_7 & = D_6 - D_5 = 1\n",
        "    \\\\\n",
        "    D_8 & = D_7 - D_6 = 0\n",
        "\\end{align*}\n",
        "\n",
        "We can observe that $D_7 = 1 = D_1$ and $D_8 = 0 = D_2$, after which it is clear that the pattern repeats with a period 6.\\\n",
        "Thereby, the sequence of determinants $\\{D_n\\}$ is periodic with period 6 with the values $1, 0, -1, -1, 0, 1$ repeating.\\\n",
        "Hence we have that $\\boxed{D_n = D_{(n \\mod 6)}}$, if we assume the convention to take $D_0 = D_6 = 1$.\n",
        "\n",
        "Since $1000 = 166 \\cdot 6 + 4$, we have $D_{1000} = D_4 \\implies \\boxed{D_{1000} = -1}$."
      ]
    },
    {
      "cell_type": "markdown",
      "metadata": {
        "id": "x7D0EDnSuIas"
      },
      "source": [
        "---\n",
        "**Block Matrices**\n",
        "\n",
        "We can consider a matrix having matrix sub-blocks and do operations in terms of the smaller sub-blocks.\n",
        "\n",
        "$M = \\begin{bmatrix} A & B \\\\ C & D \\end{bmatrix}$\n",
        "\n",
        "$N = \\begin{bmatrix} U & V \\\\ W & X \\end{bmatrix}$\n",
        "\n",
        "then $MN  = \\begin{bmatrix} AU+BW & AV + BX \\\\ CU+DW & CV+DX\\end{bmatrix}$\n",
        "\n",
        "Provided the dimensions of the sub-blocks are compatible for matrix multiplication.\n",
        "\n",
        "For example:\n",
        "Let A be a square invertible matrix. Then with $L = \\begin{bmatrix} I & 0  \\\\ -CA^{-1} & I \\end{bmatrix}$\n",
        "\n",
        "$LM = \\begin{bmatrix} A & B \\\\ 0 & D - CA^{-1}B \\end{bmatrix}$\n",
        "\n",
        "We have converted it into a lower block diagonal and $D-CA^{-1}B$ is called the schur complement of $A$\n",
        "\n",
        "Similarly, if $U = \\begin{bmatrix} I & -A^{-1}B \\\\ 0 & I \\end{bmatrix}$\n",
        "\n",
        "We have $LMU = \\begin{bmatrix} A & 0 \\\\ 0 & D-CA^{-1}B \\end{bmatrix}$\n",
        "\n",
        "\n",
        "For block triangular matrices $W=\\begin{bmatrix} A & B \\\\0 & D\\end{bmatrix}$ if $A, D$ are square, then $|W| = |A||D|$\n",
        "\n",
        "Therefore\n",
        "\n",
        "$|M| = |L||M||U| = |A||D-CA^{-1}B| = |D||A-BD^{-1}C|$\n",
        "\n",
        "The last is obtained by digonalizing $M$ as:\n",
        "\n",
        "$L^{'} = \\begin{bmatrix} I & -BD^{-1} \\\\ 0 & I \\end{bmatrix}$\n",
        "\n",
        "$L^{'}M = \\begin{bmatrix} A - BD^{-1}C & 0 \\\\ C & D \\end{bmatrix}$\n",
        "\n",
        "$U^{'} = \\begin{bmatrix} I & 0 \\\\ -D^{-1}C & I \\end{bmatrix}$\n",
        "\n",
        "Hence $L^{'}MU{'} = \\begin{bmatrix}A-BD^{-1}C & 0 \\\\ 0 & D \\end{bmatrix}$\n"
      ]
    },
    {
      "cell_type": "markdown",
      "metadata": {
        "id": "y2oDqlvByqn4"
      },
      "source": [
        "---\n",
        "**Q10**\n",
        "\n",
        "Show that $\\begin{vmatrix} A & B \\\\ C & D \\end{vmatrix} = |AD-CB|$ if $A^{-1}$ exists and $AC=CA$"
      ]
    },
    {
      "cell_type": "markdown",
      "metadata": {
        "id": "mFX_d2cS2OUq"
      },
      "source": [
        "Ans:\n",
        "\n",
        "Let $\\mathbf{A}_{p\\times q}, \\mathbf{B}_{p\\times r}, \\mathbf{C}_{s\\times q}, \\mathbf{D}_{s\\times r}$ be the block matrices as defined above.\\\n",
        "We have the given matrix as $\\mathbf{M} = \\begin{bmatrix} \\mathbf{A} & \\mathbf{B} \\\\ \\mathbf{C} & \\mathbf{D} \\end{bmatrix}$, where $\\mathbf{M}$ is of dimensions $(p+s)\\times(q+r)$.\n",
        "\n",
        "If $\\mathbf{A}^{-1}$ exists, then $\\mathbf{A}$ has to be a square matrix, giving $p=q$.\\\n",
        "Further, if $\\mathbf{A}\\mathbf{C} = \\mathbf{C}\\mathbf{A}$, then it is necessary to have that $q=s$ and $q=p$.\\\n",
        "Thereby, we have that $p=q=s$.\n",
        "\n",
        "Redefining and simplifying the notations, let $\\mathbf{A}_{p\\times p}, \\mathbf{B}_{p\\times q}, \\mathbf{C}_{p\\times p}, \\mathbf{D}_{p\\times q}$ be the block matrices.\\\n",
        "We now have $\\mathbf{M} = \\begin{bmatrix} \\mathbf{A} & \\mathbf{B} \\\\ \\mathbf{C} & \\mathbf{D} \\end{bmatrix}$, where $\\mathbf{M}$ is of dimensions $(2p)\\times(p+q)$.\n",
        "\n",
        "Consider $\\mathbf{L}_{2p\\times 2p} = \\begin{bmatrix} \\mathbf{I} & \\mathbf{0} \\\\ -\\mathbf{C}\\mathbf{A}^{-1} & \\mathbf{I} \\end{bmatrix}$ which gives $\\mathbf{L}\\mathbf{M} = \\begin{bmatrix} \\mathbf{A} & \\mathbf{B} \\\\ \\mathbf{0} & \\mathbf{D}-\\mathbf{C}\\mathbf{A}^{-1}\\mathbf{B} \\end{bmatrix}$, where $\\mathbf{D}-\\mathbf{C}\\mathbf{A}^{-1}\\mathbf{B}$ is the Schur complement of $\\mathbf{A}$.\n",
        "\n",
        "Pre-multiplying the Schur complement with $\\mathbf{A}$, we have $\\mathbf{A}(\\mathbf{D}-\\mathbf{C}\\mathbf{A}^{-1}\\mathbf{B}) = \\mathbf{AD}-\\mathbf{AC}\\mathbf{A}^{-1}\\mathbf{B} = \\mathbf{AD}-\\mathbf{CA}\\mathbf{A}^{-1}\\mathbf{B} = \\mathbf{AD}-\\mathbf{CB}$.\\\n",
        "Since $\\mathbf{A}$ is invertible, we can write the Schur complement as $\\mathbf{D}-\\mathbf{C}\\mathbf{A}^{-1}\\mathbf{B} = \\mathbf{A}^{-1}(\\mathbf{AD}-\\mathbf{CB})$.\n",
        "\n",
        "Computing the determinant of the matrix $\\mathbf{LM}$, we can see that\n",
        "$|\\mathbf{LM}| = |\\mathbf{L}||\\mathbf{M}| = 1\\cdot |\\mathbf{M}| = |\\mathbf{M}|$.\n",
        "\n",
        "If we consider the special case that $p=q$, we can see that the Schur complement is a square matrix, thereby giving\n",
        "\\begin{equation*}\n",
        "    |\\mathbf{LM}|\n",
        "    = |\\mathbf{A}||\\mathbf{D}-\\mathbf{C}\\mathbf{A}^{-1}\\mathbf{B}|\n",
        "    = |\\mathbf{A}| |\\mathbf{A}^{-1}(\\mathbf{AD}-\\mathbf{CB})|\n",
        "    = \\cancel{|\\mathbf{A}| |\\mathbf{A}^{-1}|} |(\\mathbf{AD}-\\mathbf{CB})|\n",
        "\\end{equation*}\n",
        "where we have used the property that $|\\mathbf{A}||\\mathbf{A}^{-1}| = |\\mathbf{I}| = 1$.\n",
        "\n",
        "Hence, we have that $|\\mathbf{M}| = |\\mathbf{AD}-\\mathbf{CB}|$ if $\\mathbf{A}^{-1}$ exists and $\\mathbf{AC} = \\mathbf{CA}$."
      ]
    },
    {
      "cell_type": "markdown",
      "metadata": {
        "id": "2BY568SY3pG-"
      },
      "source": [
        "---\n",
        "**Matrix inverse from cofactors**\n",
        "\n",
        "\n",
        "Recall that Cofactor of a matrix $A$ is $C_{ij} = (-1)^{i+j}|M_{ij}|$ where $M_{ij}$ is the minor with row i and column j removed from matrix $A$\n",
        "\n",
        "Also $|A| = \\sum_{j=1}^n a_{ij}C_{ij}$ i.e we can expand using any row $i$.\n",
        "\n",
        "Let $C = [C_{ij}]$ the co-factor matrix.\n",
        "\n",
        "Then $AC^T = |A|I$\n",
        "\n",
        "Therefore $A^{-1} = \\frac{1}{|A|}C^T$ if $|A| \\neq 0$\n",
        "\n"
      ]
    },
    {
      "cell_type": "markdown",
      "metadata": {
        "id": "K0upUz2MZAMS"
      },
      "source": [
        "---\n",
        "**Q11**\n",
        "\n",
        "Let C be the cofactor matrix of A. The  show that $|C|=|A|^{n-1}$"
      ]
    },
    {
      "cell_type": "markdown",
      "metadata": {
        "id": "aL5Xv34TZLRD"
      },
      "source": [
        "Ans:\n",
        "\n",
        "Given a $n \\times n$ matrix $\\mathbf{A}$, we know that $\\mathbf{A}\\mathbf{C}^T = |\\mathbf{A}|\\,\\mathbf{I}$, where $\\mathbf{C}$ is the cofactor matrix of $\\mathbf{A}$.\n",
        "Taking determinants on both sides, we have\n",
        "\\begin{align*}\n",
        "    \\implies\n",
        "    \\det(\\mathbf{A}\\mathbf{C}^T) \n",
        "    & = \n",
        "    \\det(|\\mathbf{A}|\\,\\mathbf{I})\n",
        "    \\\\ \\implies\n",
        "    \\det(\\mathbf{A})\\det(\\mathbf{C}^T) \n",
        "    & =\n",
        "    {|\\mathbf{A}|}^n\\,\\det(\\mathbf{I})\n",
        "    \\\\ \\implies\n",
        "    |\\mathbf{A}| \\det(\\mathbf{C})\n",
        "    & =\n",
        "    {|\\mathbf{A}|}^n \\cdot 1\n",
        "    \\\\ \\implies\n",
        "    \\det(\\mathbf{C})\n",
        "    & =\n",
        "    {|\\mathbf{A}|}^{n-1}\n",
        "\\end{align*}\n",
        "\n",
        "Therefore, $\\boxed{\\det(\\mathbf{C}) = {|\\mathbf{A}|}^{n-1}}$, provided $|\\mathbf{A}| \\neq 0$.\n"
      ]
    },
    {
      "cell_type": "markdown",
      "metadata": {
        "id": "k0e6wLgMZvhv"
      },
      "source": [
        "---\n",
        "**Q12**\n",
        "\n",
        "Let C be the cofactor matrix of A. find A."
      ]
    },
    {
      "cell_type": "markdown",
      "metadata": {
        "id": "LUkVPJMYZ1j1"
      },
      "source": [
        "Ans:\n",
        "\n",
        "Given a $n \\times n$ matrix $\\mathbf{A}$, we know that $\\mathbf{A}\\mathbf{C}^T = |\\mathbf{A}|\\,\\mathbf{I}$, where $\\mathbf{C}$ is the cofactor matrix of $\\mathbf{A}$.\n",
        "\n",
        "Therefore, we have\n",
        "\\begin{equation*}\n",
        "    \\mathbf{A} = \\frac{1}{|\\mathbf{A}|}\\,\\mathbf{C^{T}}^{-1}\n",
        "\\end{equation*}\n"
      ]
    },
    {
      "cell_type": "markdown",
      "metadata": {
        "id": "kUPQslQna9Ca"
      },
      "source": [
        "---\n",
        "**Q13**\n",
        "\n",
        "Let $a=(0,0), b=(1,0), c=(2,1), c=(1,3), e=(0.5,4)$ be a polygon. Find its areas using determinants."
      ]
    },
    {
      "cell_type": "markdown",
      "metadata": {
        "id": "OthF78gJbUjl"
      },
      "source": [
        "Ans:\n",
        "\n",
        "\n"
      ]
    },
    {
      "cell_type": "markdown",
      "metadata": {
        "id": "U3DyEwohohHo"
      },
      "source": [
        "---\n",
        "**Eigenvectors and Eigenvalues**\n",
        "\n",
        "For a square matrix $A$ which is $n \\times n$, certain vectors in the domain are special.\n",
        "\n",
        "When $A$ acts on them, it preserves their direction, but scales them.\n",
        "\n",
        "i.e. $Ax = \\lambda x$\n",
        "\n",
        "Thus if we were to think of the matrix as a system and $x$ as its input, the output is same as input, but scaled (either amplified or attenuated). (compare with singular vectors and singular values)\n",
        "\n",
        "To find all such special vectors/directions - called eigenvectors and the corresponding scale values - called eigenvalues, we need to analyze the above equation. Rewriting it as\n",
        "\n",
        "$(A-\\lambda I)x = 0$\n",
        "\n",
        "We need to find non-trivial solutions $x$ and corresponding $\\lambda$s.\n",
        "\n",
        "This means, $x$ is in the nullspace of $A-\\lambda I$ which means we need to find $\\lambda$s such that $A-\\lambda I$ is singular or equivalently, its determinant is 0.\n",
        "\n",
        "So find $\\lambda$ such that $|A - \\lambda I| = 0 = \\begin{vmatrix} a_{11}-\\lambda & a_{12} & ... & a_{1n} \\\\ a_{21} & a_{22}-\\lambda & ... & a_{2n} \\\\ ... \\\\ a_{n1} & a_{n2} & ... & a_{nn}-\\lambda \\end{vmatrix}$\n",
        "\n",
        "This leads to a characteristic $n^{th}$ degree polynomial equation in $\\lambda$, which has $n$ roots that are the eigenvalues of $A$.\n",
        "\n",
        "Note that the roots might turn to be complex (in which case, for a real matrix, they will appear as conjugate pairs). The corresponding eigen vectors will also be complex.\n"
      ]
    },
    {
      "cell_type": "markdown",
      "metadata": {
        "id": "QjqB_uSwq11r"
      },
      "source": [
        "---\n",
        "**Example calculation of Eigen values and vectors **\n",
        "\n",
        "$A = \\begin{vmatrix} 4 & -5 \\\\ 2 & -3\\end{vmatrix}$\n",
        "\n",
        "$|A-\\lambda I| = \\begin{vmatrix} 4-\\lambda & -5 \\\\ 2 & -3-\\lambda\\end{vmatrix} = \\lambda^2-\\lambda -2 = (\\lambda-2)(\\lambda+1)=0$. Therefore the eigenvalues are $\\lambda = 2$ and $\\lambda = -1$\n",
        "\n",
        "To find the eigen vectors, we need to find the nullspace for each eigen value.\n",
        "\n",
        "For $\\lambda=2$, $(A-2I)x = \\begin{bmatrix} 2 & -5\\\\2 & -5 \\end{bmatrix} \\begin{bmatrix} x_1 \\\\ x_2 \\end{bmatrix} = 0 $ clearly $x_1 = 5/2 x_2$ or $\\{a\\begin{bmatrix} 5 \\\\ 2 \\end{bmatrix}\\}$ defines the corresponding eigenspace, where $a$ is any real number.\n",
        "\n",
        "Similarly for $\\lambda=-1$, $(A+I)x = \\begin{bmatrix} 5 & -5 \\\\ 2 & -2 \\end{bmatrix}\\begin{bmatrix} x_1 \\\\ x_2 \\end{bmatrix} = 0 $. Clearly $x_1 = x_2$ or $\\{a\\begin{bmatrix} 1 \\\\ 1 \\end{bmatrix}\\}$ where $a$ is any real number defines the other eigen space.\n",
        "\n",
        "Note that if $x$ is a eigenvector, then so is $ax$ for any scalar $a$. Also $Ax = \\lambda x$. In general the set of eigen vectors corrsponding to a eigenvalue forms a subspace.\n",
        "\n",
        "*Example*\n",
        "\n",
        "The identity matrix $I$ has $n$ eigen values, all equal to 1. The dimension of the eigenspace corresponding to this eigen value is $n$ - the entire vector space."
      ]
    },
    {
      "cell_type": "code",
      "execution_count": null,
      "metadata": {
        "colab": {
          "base_uri": "https://localhost:8080/"
        },
        "id": "mCNrwRNYvRLq",
        "outputId": "01ab6322-98ed-49e5-ba23-8fbe10b01128"
      },
      "outputs": [],
      "source": [
        "#check with numpy\n",
        "A = np.array([[4,-5],[2,-3]])\n",
        "print(np.linalg.eig(A))\n",
        "#Returns eigen values and corresponding eigen vectors as  columns and normalized to unity"
      ]
    },
    {
      "cell_type": "markdown",
      "metadata": {
        "id": "nYoHI6xEUZAP"
      },
      "source": [
        "---\n",
        "**Matrix Powers**\n",
        "\n",
        "If $Ax = \\lambda x$ , then $A^2x = A(Ax) = A(\\lambda x) = \\lambda Ax = \\lambda^2 x$ and in general, $A^nx = \\lambda^n x$ for integer\n",
        " n.\n",
        "\n",
        "Hence eigen vectors of $A^n$ is same as that of $A$, while Eigen values get exponentiated."
      ]
    },
    {
      "cell_type": "markdown",
      "metadata": {
        "id": "glIhyIm-3dp9"
      },
      "source": [
        "---\n",
        "**Relation to Determinant**\n",
        "\n",
        "The characteristic polynomial is $|A-\\lambda I| = (-\\lambda+\\lambda_1)(-\\lambda+\\lambda_2)...(-\\lambda+\\lambda_n)$ is a polynomial with roots $\\lambda_1, \\lambda_2, ... \\lambda_n$.\n",
        "\n",
        "When we put $\\lambda=0$ above, we get $|A| = \\prod_{i=1}^{n}\\lambda_i$\n",
        "\n",
        "Hence if any eigen value is 0, the determinant is 0 and hence $A$ is singular or rank(A) < n. Similarly any singular matrix will have determinant 0 and hence at least one of the eigenvalues is 0.\n",
        "\n",
        "From the characteristic equation, right side, the coefficient of $(-\\lambda)^{n-1}$ is $\\sum_{i=1}^n\\lambda_i$ and from left side it is $\\sum_{i=1}^na_{ii}$ i.e. the sum of diagonals - which is also called the trace. Hence, trace of a matrix is the sum of eigen values.\n",
        "\n",
        "Note that\n",
        "\n",
        "a) $Trace(A) = Trace(A^T)$ as diagonal remains same\n",
        "\n",
        "b) $Trace(AB) = Trace(BA)$\n",
        "\n",
        "as $Trace(AB) = \\sum_{i=1}^n \\sum_{j=1}^{m}a_{ij}b_{ji} = \\sum_{j=1}^{m} \\sum_{i=1}^n  a_{ij}b_{ji} = \\sum_{j=1}^{m} \\sum_{i=1}^n  b_{ji}a_{ij} = Trace(BA)$ (by changing the order of summation of index i and j\n",
        "\n",
        "\n",
        "\n",
        "Hence if $v$ is a vector, then $Trace(vv^T) = Trace(v^Tv) = v^Tv$\n",
        "\n",
        "\n",
        "The $nxn$ matrix $vv^T$ has rank 1 and one non-zero eigen value (=$v^Tv$ and $n-1$ of 0 eigen values. The eigen space for '0' eigenvalue is the hyperplane normal to $v$.\n"
      ]
    },
    {
      "cell_type": "markdown",
      "metadata": {
        "id": "oXrS8Wv5uCjq"
      },
      "source": [
        "---\n",
        "**Geometric and Arithmetic Multiplicity of Eigenvalues**\n",
        "\n",
        "Algebraic multiplicity of an eigen value is the number of repetitions as the root. For example, the eigen value '1' for Identity matrix $I$ has algebraic multiplicity of $n$\n",
        "\n",
        "Geometric multiplicity is the dimension of the corresponding eigensubspace and is less than equal to algebraic multiplicity. In case of identity matrix, the eigen value '1' also has geometric multiplicity of $n$\n",
        "\n",
        "Note that '0' can also be an eigen value/\n",
        "\n",
        "For now, lets assume that geometric multiplicity = arithmetic multiplicity. Then for each each eigenvalue with multiplicity $k$, the corresponding eigen subspace will have dimension $k$, and we can find $k$ linearly independant basis vectors for that subspace.\n"
      ]
    },
    {
      "cell_type": "markdown",
      "metadata": {
        "id": "l85QL27c1ULw"
      },
      "source": [
        "---\n",
        "**Diagonalization of a square matrix**\n",
        "\n",
        "For any square matrix, if the eigenvalues have arithmetic multiplicity same as geometric multipicity, then we can form a matrix of eigen vectors $S = [v_1, v_2, v_3, ...., v_n]$ where each column is a eigen vector for the corresponding eigen value in the diagonal. Then\n",
        "\n",
        "$AS = SD$ where $D$ is the diagonal matrix of eigen values.\n",
        "\n",
        "Since all column vectors are independent (either due to being with different eigen spaces or by construciton in case they fall in the same eigen space), then $S$ is invertible and\n",
        "\n",
        "$A = SDS^{-1}$ or $D = S^{-1}AS$\n",
        "\n",
        "Hence $A$ is diagonalizable. Clearly $S$ is not unique (for example any basis set for each eigensubspace can be chosen).\n",
        "\n",
        "Two matrices $A$ and $B$ are said to be similar, if they are digonalizable to the same Diagonal matrix, i.e. $D = S_A^{-1}AS_A = S_B^{-1}BS_B$\n",
        "\n",
        "\n",
        "*Matrix Powers*\n",
        "\n",
        "If $A$ is diagonalizable, $A=SDS^{-1}$, then $A^2 = SDS^{-1}SDS^{-1} = SD^2S^{-1}$ and in general $A^n = SD^nS^{-1}$"
      ]
    },
    {
      "cell_type": "markdown",
      "metadata": {
        "id": "tB_RzLE-U16R"
      },
      "source": [
        "---\n",
        "**Cayley Hamilton Theorem**\n",
        "\n",
        "The characteristic equation of a matrix is\n",
        "\n",
        " $p(\\lambda) = |\\lambda I - A| = \\lambda^n + c_{n-1} \\lambda^{n-1} + ...+ c_1 \\lambda + c_0 = 0$.\n",
        "\n",
        "Then substituting $A$ for $\\lambda$ in this polynomial equation, we get a matrix equaiton in the powers of A which is also equal to the 0 matrix!\n",
        "\n",
        "$p(A) = A^n + c_{n-1} A^{n-1}+ ...+c_1 A + c_0 = 0$\n",
        "\n",
        "For $A$ diagonalizatble, this is easy to prove (though it is true for any square matrix A).\n",
        "\n",
        "Let $A=SDS^{-1}$ therefore $p(SDS^{-1} = SD^nS^{-1} + C_{n-1}SD^{n-1}S^{-1} + ... + c_1 SDS^{-1}+ cSS^{-1} = S(D^n + c_{n-1}D^{n-1} + ... + c_1D + c_0I)S^{-1} = S0S^{-1} = 0$ since each eigen value is the root of the  characteristic equation - whichs is formed by summing  the diagonal entry across the matrix sum\n",
        "\n",
        "Hence and power of a matrix equal to or above $n$ can be replaces by a polynomial of matrix powers less than $n$\n",
        "\n"
      ]
    },
    {
      "cell_type": "markdown",
      "metadata": {
        "id": "iSYo_b9NXmao"
      },
      "source": [
        "---\n",
        "**Matrix Exponential**\n",
        "\n",
        "Formally, we can define $e^{A} = I + A + \\frac{A^2}{2!} + \\frac{A^3}{3!} ....$.\n",
        "\n",
        "From Cayley-Hamilton theorem, the above can be converted into a matrix sum with powers of $A$ upto $n-1$\n",
        "\n",
        "If $A$ is diagonalizable, then $e^{A} = SS^{-1} + SDS^{-1} + ...  = S(I + D + \\frac{D^2}{2!} + ... )S^{-1} = Se^DS^{-1}$"
      ]
    },
    {
      "cell_type": "markdown",
      "metadata": {
        "id": "WGJV5PlaMAv_"
      },
      "source": [
        "---\n",
        "**Real-Symmetric Matrices have real eigen values**\n",
        "\n",
        "Let $A$ be a real  symmetric matrix, i.e. $A^* = A$ and $A^T = A$. Let $Ax = \\lambda x$. Then $A^*x^* = \\lambda x^* = Ax^*$ therefore $\\lambda^*$ is also an eigen value of $A$.\n",
        "\n",
        "\n",
        "Therefore $x^{*T}A^{*T}x = (x^{*T}A^{*T})x = \\lambda^*x^{*T}x = x^{*T}(A^{*T}x) = \\lambda x^{*T}x$. Therefore $\\lambda = \\lambda^*$ is the only way this is possible for non-zero eigenvectors. Hence eigen values of real symmetric matrices are real."
      ]
    },
    {
      "cell_type": "markdown",
      "metadata": {
        "id": "fDyu9cF8OkN2"
      },
      "source": [
        "---\n",
        "**Eigen spaces of Hermitian (including real symmetric) matrices are orthogonal to each other**\n",
        "\n",
        "Let $A$ be Hermitian - i.e. equal to its conjugate transpose $(A^{*T} = A$ or $A^* = A^T$\n",
        "\n",
        "Let $Ax = \\lambda_x x$ and $Ay = \\lambda_y y$ be two different eigen values and subspaces.  \n",
        "\n",
        "Then $x^{*T}A^{*T}y = (x^{*T}A^{*T})y = \\lambda_x^{*}x^{*T}y = x^{*T}(A^{*T}y) = \\lambda_y  x^{*T}y$ and if $\\lambda_x \\neq \\lambda_y$, this can only happen if $x^{*T}y = 0$, which means that the eigen subspaces are orthogonal.\n",
        "\n"
      ]
    },
    {
      "cell_type": "markdown",
      "metadata": {
        "id": "epNeoyITb19B"
      },
      "source": [
        "---\n",
        "**Q14**\n",
        "\n",
        "Find the three eigen values and vectors for $A=\\begin{bmatrix} 1 \\\\ 2 \\\\ 1\\end{bmatrix} \\begin{bmatrix} 2 & 1 & 2 \\end{bmatrix}$\n"
      ]
    },
    {
      "cell_type": "markdown",
      "metadata": {
        "id": "vS531OgufAE3"
      },
      "source": [
        "Ans:\n",
        "\n",
        "Consider a column vector $\\mathbf{v}_{n\\times 1}$, from which we have the outer product $\\mathbf{A}_{n\\times n} = \\mathbf{v} \\mathbf{v}^T$.\\\n",
        "We can see that $\\mathbf{A}$ is a symmetric matrix, and hence its eigenvalues are real.\n",
        "\n",
        "Consider $\\mathbf{A}\\mathbf{x} = \\lambda \\mathbf{x}$, where $\\mathbf{x}$ is the eigenvector and $\\lambda$ is the eigenvalue.\n",
        "\n",
        "\n",
        "Pre-multiplying by $\\mathbf{v}^T$, we have\n",
        "\\begin{align*}\n",
        "    \\lambda \\mathbf{v}^T\\mathbf{x}\n",
        "    & = \\mathbf{v}^T(\\mathbf{A}\\mathbf{x})\n",
        "    & = \\mathbf{v}^T(\\mathbf{v}\\mathbf{v}^T\\mathbf{x})\n",
        "    & = (\\mathbf{v}^T\\mathbf{v})\\mathbf{v}^T\\mathbf{x}\n",
        "    \\\\\n",
        "    \\implies \\lambda\n",
        "    & = \\mathbf{v}^T\\mathbf{v}\n",
        "    = \\lVert \\mathbf{v} \\rVert ^2\n",
        "\\end{align*}\n",
        "\n",
        "Therefore, one of the eigenvalues is $\\lVert \\mathbf{v} \\rVert ^2$.\n",
        "\n",
        "Computing the trace of $\\mathbf{A}$, we can see that it is equal to the sum of the diagonal elements which turns out to be $\\lVert \\mathbf{v} \\rVert ^2$.\\\n",
        "Since the sum of the diagonal elements of a matrix is equal to the sum of its eigenvalues, we can see that $\\lVert \\mathbf{v} \\rVert ^2$ is the only non-zero eigenvalue of $\\mathbf{A}$, and all the other eigenvalues are zero.\n",
        "\n",
        "Thereby, the matrix $\\mathbf{A}$ has two eigenvalues, v.i.z, eigenvalue $\\lVert \\mathbf{v} \\rVert ^2$ with multiplicity 1, and eigenvalue 0 with multiplicity $(n-1)$.\n",
        "\n",
        "With $\\mathbf{v} = \\begin{bmatrix} 1 \\\\ 2 \\\\ 1 \\end{bmatrix}$, we have $\\lVert \\mathbf{v} \\rVert ^2 = 6$.\n",
        "\n",
        "Thereby, the eigenvalues of $\\mathbf{A} = \\mathbf{v} \\mathbf{v}^T$ are $\\boxed{\\{6, 0, 0\\}}$.\n"
      ]
    },
    {
      "cell_type": "markdown",
      "metadata": {
        "id": "_16uG4COQX8c"
      },
      "source": [
        "---\n",
        "**Q15**\n",
        "when a+b = c+d, show that (1,1) is an eigen vector of $A=\\begin{bmatrix} a & b \\\\ c & d \\end{bmatrix}$. Find the other eigen value.\n"
      ]
    },
    {
      "cell_type": "markdown",
      "metadata": {
        "id": "bp_dE3kTh-Qp"
      },
      "source": [
        "Ans:\n",
        "\n",
        "With $\\mathbf{A} = \\begin{bmatrix} a & b \\\\ c & d \\end{bmatrix}$, we have the eigenvalue equation $\\mathbf{A}\\mathbf{x} = \\lambda \\mathbf{x}$.\n",
        "\n",
        "Let $\\mathbf{x} = \\begin{bmatrix} x \\\\ y \\end{bmatrix}$, and $\\lambda$ be the eigenvalue corresponding to $\\mathbf{x}$.\n",
        "\n",
        "Then, we have\n",
        "\\begin{align*}\n",
        "    \\mathbf{A}\\mathbf{x}\n",
        "    & =\n",
        "    \\begin{bmatrix} a & b \\\\ c & d \\end{bmatrix}\n",
        "    \\begin{bmatrix} x \\\\ y \\end{bmatrix}\n",
        "    =\n",
        "    \\begin{bmatrix} ax + by \\\\ cx + dy \\end{bmatrix}\n",
        "    =\n",
        "    \\lambda \\begin{bmatrix} x \\\\ y \\end{bmatrix}\n",
        "    =\n",
        "    \\begin{bmatrix} \\lambda x \\\\ \\lambda y \\end{bmatrix}\n",
        "\\end{align*}\n",
        "\n",
        "We can observe that, by putting $x=y=1$, we have\n",
        "\\begin{align*}\n",
        "    \\begin{bmatrix} a & b \\\\ c & d \\end{bmatrix}\n",
        "    \\begin{bmatrix} 1 \\\\ 1 \\end{bmatrix}\n",
        "    & =\n",
        "    \\begin{bmatrix} a + b \\\\ c + d \\end{bmatrix}\n",
        "    =\n",
        "    \\begin{bmatrix} a + b \\\\ a + b \\end{bmatrix}\n",
        "    =\n",
        "    \\begin{bmatrix} \\lambda \\\\ \\lambda \\end{bmatrix}\n",
        "\\end{align*}\n",
        "which is a tautology, and hence $\\begin{bmatrix} 1 \\\\ 1 \\end{bmatrix}$ is an eigenvector of $\\mathbf{A}$."
      ]
    }
  ],
  "metadata": {
    "colab": {
      "include_colab_link": true,
      "provenance": []
    },
    "kernelspec": {
      "display_name": "Python 3",
      "name": "python3"
    },
    "language_info": {
      "codemirror_mode": {
        "name": "ipython",
        "version": 3
      },
      "file_extension": ".py",
      "mimetype": "text/x-python",
      "name": "python",
      "nbconvert_exporter": "python",
      "pygments_lexer": "ipython3",
      "version": "3.9.17"
    }
  },
  "nbformat": 4,
  "nbformat_minor": 0
}
