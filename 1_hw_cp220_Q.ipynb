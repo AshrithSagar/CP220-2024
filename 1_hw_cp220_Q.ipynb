{
  "cells": [
    {
      "cell_type": "markdown",
      "metadata": {
        "colab_type": "text",
        "id": "view-in-github"
      },
      "source": [
        "<a href=\"https://colab.research.google.com/github/AshrithSagar/CP220-2024/blob/main/1_hw_cp220_Q.ipynb\" target=\"_parent\"><img src=\"https://colab.research.google.com/assets/colab-badge.svg\" alt=\"Open In Colab\"/></a>"
      ]
    },
    {
      "cell_type": "markdown",
      "metadata": {
        "id": "uLMB_HQoVKhN"
      },
      "source": [
        "#HW 1\n",
        "Please write your answers in the cells below\n",
        "For help with Latex notation, see this sites:\n",
        "1.\n",
        "https://colab.research.google.com/github/bebi103a/bebi103a.github.io/blob/master/lessons/00/intro_to_latex.ipynb\n",
        "\n",
        "2.\n",
        "https://oeis.org/wiki/List_of_LaTeX_mathematical_symbols\n",
        "\n",
        "For help with Google Colab see:\n",
        "*italicised text*\n"
      ]
    },
    {
      "cell_type": "markdown",
      "metadata": {
        "id": "rsRD6CtW2wT3"
      },
      "source": [
        "# Topics\n",
        "\n",
        "Vector Spaces, Basis, Dimension, Subspaces, Affine Spaces, Dot Product, Norm, Cauchy Schwarz Inequality, Angle, Matrices, Transpose, NullSpace, Kernel, Rank\n",
        "\n",
        "\n"
      ]
    },
    {
      "cell_type": "markdown",
      "metadata": {
        "id": "vqE3wpcpljo-"
      },
      "source": [
        "---\n",
        "The set of real numbers, ℝ , along with its operations of addition, multiplication and the special numbers 0 (additive identity) and 1 (multiplicative identity) are the inspiration for defining the alberaic concept of **Field**\n",
        "\n",
        "A field 𝐹 is a set with operations \\+ , · and elements *0*, *1* such that\n",
        "\n",
        "$∀ a,b,c ∈ 𝐹 $\n",
        "\n",
        "Closure under addition and multiplication: $a · b ∈ 𝐹;\\ a + b ∈ 𝐹$\n",
        "\n",
        "Identities: $a + 0 = 0 + a = a;\\ a · 1 = 1 · a = a$\n",
        "\n",
        "Commutativity: $ a + b = b + a;\\ a \\cdotp b = b \\cdotp a$\n",
        "\n",
        "Associativity : $ (a + b) + c = a + ( b + c);\\ (a \\cdotp b) \\cdotp c = a \\cdotp ( b \\cdotp c) $\n",
        "\n",
        "Additive inverse: $∀ a ∈ 𝐹, ∃ -a ∈ 𝐹 \\ such\\ that:\\ a + -a = -a + a = 0$\n",
        "\n",
        "Multiplicative inverse: $∀ a \\neq 0 ∈ 𝐹, ∃\\ a^{-1} ∈ 𝐹\\ such\\ that:\\ a \\cdotp a^{-1} = a^{-1} \\cdotp a = 1$\n",
        "\n",
        "Distributivity of multiplication over addition: $a \\cdotp (b + c) = a \\cdotp b + a \\cdotp c$\n"
      ]
    },
    {
      "cell_type": "markdown",
      "metadata": {
        "id": "JDGxQWm-vdJn"
      },
      "source": [
        "---\n",
        "**Examples**:\n",
        "\n",
        "Besides real numbers, other examples of fields are\n",
        "\n",
        "Set of complex numbers $ℂ = \\{x + i y\\}\\ where\\ x, y ∈ ℝ\\ and\\ i=\\sqrt{-1}$ along with its usual definition of multiplication and addition\n",
        "\n",
        "Set of Rationals $ℚ = \\{$ ${p \\over q}$ $\\}$ where $ p, q \\neq 0 ∈ 𝚉$ (integers) along with its usual definition of multiplication and addition\n",
        "\n",
        "A finite set of integers $P = \\{0, 1,\\ ...,\\ p-1\\}$ where $p$ is a prime with addition and multiplication are modulo $p$\n"
      ]
    },
    {
      "cell_type": "markdown",
      "metadata": {
        "id": "cWhmfwQEy54I"
      },
      "source": [
        "---\n",
        "**Q1**\n",
        "\n",
        "Show that the set $P= \\{0, 1, 2, 3, 4, 5, 6\\}$ with addition and subtraction modulo 6 is not a Field.\n",
        "\n",
        "Ans:\n",
        "\n",
        "Inclusion of subtraction as an operation in the above Field doesn't satisfy the commutative property.\n",
        "An example that shows this violation is $(3 - 2) \\mod 6$ evaluates to 1, but $(2 - 3)\\mod 6$ evaluates to 5, which are not equal.\n",
        "Since the commutative property is violated, we can conclude that the set $P$ is not a Field."
      ]
    },
    {
      "cell_type": "markdown",
      "metadata": {
        "id": "5oHD6mmNQxjU"
      },
      "source": [
        "---\n",
        "**Q2**\n",
        "\n",
        "Show that $0v = 0$ for all v in V\n",
        "\n",
        "Ans:\n",
        "\n",
        "The question is restated as follows\n",
        "> Show that $0\\mathbf{v} = \\mathbf{0}$ for all $\\mathbf{v}$ in a vector space $V$ over $\\R$.\n",
        "\n",
        "Given $V$ is a vector space and $\\mathbf{v}$ to be a vector in $V$, the left hand side represents the scalar multiplication of $\\mathbf{v}$ with $0$, and the right hand side is the zero vector $\\mathbf{0}$.\n",
        "We start with the property of the reals numbers $\\R$ that $0 + 0 = 0$, following which we get $(0 + 0)\\mathbf{v} = 0\\mathbf{v}$, which is just using the same scalars for multiplication with $\\mathbf{v}$.\n",
        "Now, $(0 + 0)\\mathbf{v} = 0\\mathbf{v} + 0\\mathbf{v}$, by the axiom of distribution over scalar addition.\n",
        "This gives us $0\\mathbf{v} + 0\\mathbf{v} = 0\\mathbf{v}$.\n",
        "Adding the additive inverse of $0\\mathbf{v}$, which is $-0\\mathbf{v}$ [Assume it with a variable $a$ if this is a problem to write as $-0\\mathbf{v}$], to both sides, we get $(0\\mathbf{v} + 0\\mathbf{v}) + (-0\\mathbf{v}) = 0\\mathbf{v} + (-0\\mathbf{v})$.\n",
        "Applying the axiom of associativity of addition to the left hand side, we get $0\\mathbf{v} + (0\\mathbf{v}) + (-0\\mathbf{v}) = (0\\mathbf{v} + (-0\\mathbf{v}))$.\n",
        "Since $(0\\mathbf{v}) + (-0\\mathbf{v}) = 0$, which is from the additive inverse axiom, we finally get $0\\mathbf{v} + 0 = 0$.\n",
        "From this, it is easy to see that the left hand side is $0\\mathbf{v} + 0 = 0\\mathbf{v}$, from the additive identity axiom.\n",
        "Hence, we get $0\\mathbf{v} = 0$.\n"
      ]
    },
    {
      "cell_type": "markdown",
      "metadata": {
        "id": "Pa3U-HfQzVK2"
      },
      "source": [
        "---\n",
        "**Vector Spaces**\n",
        "\n",
        "A set 𝑉 is a vector space over a field  𝐹 , (called scalars) with vector addition \\+ and scalar multiplication if the following hold true:\n",
        "\n",
        "$∀\\ u,v,w \\in 𝑉$ and $a,b \\in 𝐹$\n",
        "\n",
        "Closure under addition: $u + v \\in 𝑉$\n",
        "\n",
        "Closure under scalar multiplication: $a v \\in 𝑉$\n",
        "\n",
        "Addition is commutative: $u + v = v + u$\n",
        "\n",
        "Addition is associative: $u + (v + w) = (u + v) + w$\n",
        "\n",
        "Identity of vector addition: $∃\\ 0 \\in 𝑉$, called zero vector, such that $u + 0 = 0 + u = u$\n",
        "\n",
        "Inverse: $∃ -u \\in 𝑉$ such that $u + -u = -u + u = 0$\n",
        "\n",
        "Compatibility of scalar multiplication with field multiplication: $a(bv) = (ab)v $\n",
        "\n",
        "Identity of scalar multiplication: $1v = v$ where $1$ is multiplicative identity of 𝐹\n",
        "\n",
        "Distributivity of scalar multiplication over vector addition: $a(u +v) = au + av$\n",
        "\n",
        "Distributivity of scalar multiplication over field addition: $(a+b)v = av + bv$"
      ]
    },
    {
      "cell_type": "markdown",
      "metadata": {
        "id": "QoqKGApt2TW0"
      },
      "source": [
        "---\n",
        "**Examples**\n",
        "\n",
        "1. Set of reals ℝ over the scalar field ℝ.\n",
        "\n",
        "2. The 2D Euclidean space  $ℝ^2$ over ℝ\n",
        "\n",
        "3. The 3D Eucliean space   $ℝ^3$ over ℝ\n",
        "\n",
        "4. N-dimensional space   $ℝ^n$ over ℝ\n",
        "\n",
        "5. The set of complex numbers, ℂ over ℝ\n",
        "\n",
        "6. The set of complex numbers, ℂ over ℂ\n",
        "\n",
        "7. The set of real numbers ℝ over set of rationals ℚ\n",
        "\n",
        "8. The physical entities: displacement, velocity, acceleration, force, electric field, magnetic field etc. can be modeled as 3D vectors over ℝ\n",
        "\n",
        "9. The set of continuous functions $f: ℝ → ℝ $ is a vector space over ℝ"
      ]
    },
    {
      "cell_type": "markdown",
      "metadata": {
        "id": "OXimMqXX29mG"
      },
      "source": [
        "---\n",
        "**Q3**\n",
        "\n",
        "Which of the following are vector spaces over 𝑅? Explain\n",
        "\n",
        "a. All sequences like (1, 0, 1, ... which have infinitely many zeros.\n",
        "\n",
        "Ans:\n",
        "\n",
        "No, this is not a vector space over $\\R$.\n",
        "Consider two elements in the set of sequences, namely $(1, 0, 1, ...)$ and $(0, 1, 0, 1, ...)$, the sum of both which is $(1, 1, 1, ...)$ is not in the set, hence this won't be a vector space.\n",
        "\n",
        "\n",
        "b. All sequences $(x_1, x_2, ...)$ with $x_j=0 ∀ j > k$ for some $k$\n",
        "\n",
        "Ans:\n",
        "\n",
        "< your answer here >\n",
        "\n",
        "\n",
        "\n",
        "c. All geometric progressions $(x_1, kx_1, k^2x_1, ...) for all k, x_1 \\in ℝ$\n",
        "\n",
        "Ans:\n",
        "\n",
        "< your answer here >\n",
        "\n",
        "\n",
        "\n",
        "d. All solutions $(x , y , z) of ax + by + cz = 0$\n",
        "\n",
        "Ans:\n",
        "\n",
        "< your answer here >\n",
        "\n",
        "\n",
        "\n",
        "e. All solutions $(x , y , z)$ of $ax + by + cz = 5$\n",
        "\n",
        "Ans:\n",
        "\n",
        "< your answer here >\n",
        "\n"
      ]
    },
    {
      "cell_type": "markdown",
      "metadata": {
        "id": "11zjY6VoNhYh"
      },
      "source": [
        "---\n",
        "**Linear Subspace or Vector Subspace**\n",
        "\n",
        "If 𝑉 is a vector space over 𝐹 then 𝑊 ⊂ 𝑉 is a linear subspace if it is closed under scalar multiplication and vector addition.\n",
        "\n",
        "Examples:\n",
        "\n",
        "1) The plane $\\{(x,y,z) | ax + by + cz = 0 \\}$ is a subspace of  $ℝ^3$\n",
        "\n",
        "2) The set of continous function from real to real is a subspace of the vector space of all functions from real to real\n",
        "\n",
        "3) Consider the set $P(a,b,c) = \\{ (\\lambda a, \\lambda b, \\lambda c)\\}$ $∀ \\lambda \\in ℝ $ and some fixed $a, b, c \\in ℝ$. $P(a,b,c) $ is a subspace of $ℝ^3$"
      ]
    },
    {
      "cell_type": "markdown",
      "metadata": {
        "id": "abzM6Eu1SW2a"
      },
      "source": [
        "---\n",
        "**Q4**\n",
        "\n",
        "Show that the intersection of subspaces is a subspace\n",
        "\n",
        "Ans:\n",
        "\n",
        "< Your answer here >\n",
        "\n"
      ]
    },
    {
      "cell_type": "markdown",
      "metadata": {
        "id": "Y0Dm9K1jTfA-"
      },
      "source": [
        "---\n",
        "**Q5**\n",
        "\n",
        "Is a union of subspaces a vector space?\n",
        "\n",
        "Ans:\n",
        "\n",
        "< your answer here >\n",
        "\n",
        "\n"
      ]
    },
    {
      "cell_type": "markdown",
      "metadata": {
        "id": "jnPvJau0UCWd"
      },
      "source": [
        "---\n",
        "**Linear Combination**\n",
        "\n",
        "Let $G = {g_1, g_2, ...., g_k} ⊂ 𝑉$\n",
        "then a linear combination of elements of $G$ is:\n",
        "\n",
        "$a_1 g_1 + a_2 g_2 + ... + a_k g_k$\n",
        "\n",
        "where $a_1, a_2, ..., a_k$ are scalars from 𝐹"
      ]
    },
    {
      "cell_type": "markdown",
      "metadata": {
        "id": "KcWQ5pXPUmgF"
      },
      "source": [
        "---\n",
        "**Linear Independance**\n",
        "\n",
        "$u$ is linearly independant of $\\{v_1, v_2, .... v_k, ... \\}$ if it cannot be expressed as a linear combination of them.\n",
        "\n",
        "Similarly, the set of vectors $\\{v_1, v_2, .... v_k, .... \\}$  is linearly independant if no element of the set can be expressed as a linear combination of the rest.\n",
        "\n",
        "Equivalenty,\n",
        "\n",
        "the set of vectors $\\{v_1, v_2, .... v_k , .... \\}$  is linearly independant if the 0 vector can be obtained only  as a linear combination with zero scalar coefficients.\n"
      ]
    },
    {
      "cell_type": "markdown",
      "metadata": {
        "id": "ic2dc7evWWlz"
      },
      "source": [
        "---\n",
        "**Linear Span**\n",
        "\n",
        "Let $G=\\{g_1, g_2, ....g_k \\}$ be a subset of vectors. Then\n",
        "\n",
        "Span(G) = $\\{ a_1 g_1 + a_2 g_2 + ... + a_k g_k\\}$ for all scalars $a_1, a_2, ,... a_k$ from the field.\n",
        "\n",
        "Span(G) is generated by linear combinations of G\n",
        "\n",
        "Span(G) ⊂ 𝑉 and is also a vector subspace"
      ]
    },
    {
      "cell_type": "markdown",
      "metadata": {
        "id": "TiUUEnDOXGv0"
      },
      "source": [
        "---\n",
        "**Basis** and **Dimension**\n",
        "\n",
        "A basis $B ⊂ 𝑉$ is a linearly independant set that spans 𝑉.\n",
        "\n",
        "ie. Span($B$) = 𝑉\n",
        "\n",
        "The cardinality of the $B$ (=$|B|$) is the dimension of 𝑉.\n",
        "\n",
        "There can be many possible Basis sets - but all will have same cardinality\n",
        "\n",
        "Examples:\n",
        "\n",
        "1) In 1D, ℝ is a vector space of ℝ and has dimension of 1. The basis is any non-zero number.\n",
        "\n",
        "2) In 3D space, the unit vectors along orthogonal axes defines one basis\n",
        "\n",
        "3) For the set of square integrable functions over a unit interval, the harmonic set of sinusoid and cosinusoids form the basis.\n",
        "\n",
        "$f: [0,1] → ℝ $ is square integrable, i.e $\\int_{0}^{1} |f|^2 dx < ∞$\n",
        "\n",
        "then\n",
        "\n",
        " $f(t) = a_0 + \\sum_{i=1}^{∞} a_i sin(2πit) + b_i cos(2πit)$\n",
        "\n",
        " by Fourier series expansion and\n",
        "\n",
        "  $\\{1, sin(2πit), cos(2πit)\\}$ for $i=1,2,...$ is the infinite basis set.\n",
        "\n",
        "\n"
      ]
    },
    {
      "cell_type": "markdown",
      "metadata": {
        "id": "bFcF_vWH_g63"
      },
      "source": [
        "**Q6**\n",
        "\n",
        "What are the dimensions of the following vector spaces?\n",
        "\n",
        "a) A set of (position, velocity) of a train on a track\n",
        "\n",
        "Ans: < your answer here >\n",
        "\n",
        "b) The set of position, orientation (attitude), velocities and angular velocities of a drone\n",
        "\n",
        "Ans: < your answer here >\n",
        "\n",
        "c) The space of ℝ over the field 𝑄 (rationals)\n",
        "\n",
        "Ans: < your answer here >\n",
        "\n",
        "d) Subspace $P(a,b,c) = \\{ (\\lambda a, \\lambda b, \\lambda c)\\}$ $∀ \\lambda \\in ℝ $ and some fixed $a, b, c \\in ℝ$.\n",
        "\n",
        "Ans: < your answer here >"
      ]
    },
    {
      "cell_type": "markdown",
      "metadata": {
        "id": "JG3N9yEBA_hk"
      },
      "source": [
        "---\n",
        "**Coordinate Representation**\n",
        "\n",
        "Since any vector can be expressed as a linear combination of the elements of the basis set, the linear coefficients provide a representation of the vector in that basis.\n",
        "\n",
        "Considering a finite dimensional vector space with dimension $n$, Let its basis be $B={u_1, u_2, ...., u_n}$\n",
        "\n",
        "Then any vector $v = \\sum_{1}^{n} a_i u_i$\n",
        "\n",
        "here ${a_i}$ are scalars. Hence $(a_1, a_2, ..., a_n)$ is the coordinate representation of $v$ in basis $B$\n",
        "\n",
        "Then $v = \\begin{bmatrix} a_1 \\\\ a_2 \\\\ . \\\\ . \\\\ a_n \\end{bmatrix} $\n",
        "\n",
        "is a way to represent the vector in a matrix form. The matrix is a rectangular array of elements and has size $n x 1$, i.e n rows and 1 column.\n",
        "\n",
        "Examples:\n",
        "\n",
        "a) In 3D Euclidean space, with usual orthogonal axis, any vector is represented as a 3-tuple $(a, b, c)$\n",
        "\n",
        "b) in 2D projective geometry, any 2D point is the subspace $P(a,b,c) = \\{ (\\lambda a, \\lambda b, \\lambda c)\\}$ $∀ \\lambda \\in ℝ $ and some fixed $a, b, c \\in ℝ$ and can be represented as $(a/c,b/c,1)$. This is called the homogenous representation of a point.\n",
        "\n",
        "Similarly a 3D point is mapped to a linear subspace of $ℝ^4$ and represented as $( {a \\over d}, {b \\over d}, {c \\over d}, 1)$"
      ]
    },
    {
      "cell_type": "markdown",
      "metadata": {
        "id": "kIeq8yF_C3hp"
      },
      "source": [
        "**Scalar Product, Dot Product and Inner Product**\n",
        "\n",
        "An scalar product of two vectors is a function relating the two vectors to a scalar (from its field).\n",
        "\n",
        "$· : 𝑉 x 𝑉 → 𝐹\\  i.e.\\   \\forall\\ u, v \\in 𝑉,\\  u · v \\in 𝐹$\n",
        "\n",
        "When the scalar field 𝐹 is real, the scalar product is commutative or symmetric i.e.\n",
        "\n",
        "$u \\cdotp v = v \\cdotp u$\n",
        "\n",
        "When the scalar field 𝐹 is complex, the scalar product has conjugate symmetry. i.e\n",
        "\n",
        "$u \\cdotp v = \\overline{v \\cdotp u}$\n",
        "\n",
        "The scalar product is linear in the second argument, i.e.\n",
        "\n",
        "$u \\cdotp (av + bw) = a\\  u \\cdotp v + b\\ u \\cdotp w$\n",
        "\n",
        "Hence it is conjugate linear in first argument (for real scalar field, it is linear in first argument)\n",
        "\n",
        "By defining the scalar product on all pairs of basis vectors, we can then calculate the scale product on any pair of vectors by the linear expansion and  linearity property of the scalar product.\n",
        "\n",
        "Examples:\n",
        "\n",
        "a) In 3D Euclidean space, let $e_1, e_2, e_3$ be the basis vectors. Let $a = a_1 e_1 + a_2 e_2 + a_3 e_3$ and $b = b_1 e_1 + b_2 e_2 + b_3 e_3$ be the linear expansion of two vectors in terms of the basis. Let the scalar product on the bases vectors be defined as $ e_i · e_j = 0$ if $i \\neq j$ and $e_i · e_i = 1$ for $i = 1,2,3$. Such a basis is called the unit orthogonal basis. Then by linearity property of scalar product:\n",
        "\n",
        "$a · b = a_1b_1 + a_2b_2 + a_3b_3$ and is also called the **dot product**\n",
        "\n",
        "---\n",
        "**inner product**\n",
        "\n",
        "When the scalar product also has this additional property of positive definiteness, it is called an inner product\n",
        "\n",
        "$a · a \\geq 0$ and is equal to 0 only if $a = 0$\n",
        "\n",
        "It is also written in bra-ket notation:\n",
        "\n",
        "<a, b>\n",
        "\n",
        "The vector space with an inner product is also called an inner product space.\n",
        "\n",
        "Exampe:\n",
        "a) The familiar 2D and 3D Euclidean space\n",
        "\n",
        "b) Let ℱ be the space of square integrable real functions in the interval $[0,1]$. Let $f, g \\in ℱ\\ over\\ ℝ$ be two arbitrary functions.\n",
        "\n",
        "Then we can define an inner product as:\n",
        "\n",
        "$<f,g> = \\int_{0}^{1} fgdx$\n",
        "\n",
        "\n",
        "\n",
        "\n",
        "\n"
      ]
    },
    {
      "cell_type": "markdown",
      "metadata": {
        "id": "ktcXMKYHoL9O"
      },
      "source": [
        "---\n",
        "**Cauchy-Schwarz Inequality**\n",
        "\n",
        "$\\forall x, y \\in 𝑉$, an vector space over reals or complex nimbers, with inner product, then\n",
        "\n",
        "$|<u,v>|^2\\  \\leq\\  <u,u> \\cdotp <v,v>$\n",
        "\n",
        "with equality if and only if $u,v$ are linearly dependent.\n",
        "\n",
        "\n",
        "See https://en.wikipedia.org/wiki/Cauchy%E2%80%93Schwarz_inequality for some  proofs (also in the reference text by Boyd on Applied Linear Algebra)"
      ]
    },
    {
      "cell_type": "markdown",
      "metadata": {
        "id": "xDa9s7g-g-Wd"
      },
      "source": [
        "---\n",
        "**norm**\n",
        "\n",
        "Once can define a length or norm on any vector space over real or complex numbers as as $\\lVert · \\rVert: 𝑉 → ℝ $  with the following properties $\\forall x, y \\in 𝑉$:\n",
        "\n",
        "a) Non negativity:  $\\lVert x \\rVert \\geq 0$\n",
        "\n",
        "b) Positive definiteness: $\\lVert x \\rVert= 0$ if and only if $x = 0$\n",
        "\n",
        "c) Absolution Homogenity: $\\forall a \\in ℝ\\ or\\ ℂ$, $\\lVert ax \\rVert = |a|\\lvert x \\rVert$\n",
        "\n",
        "d) Triangle inequality: $\\lVert x + y \\rVert \\leq \\lVert x \\rVert + \\lVert y \\rVert$\n",
        "\n",
        "\n",
        "The inner product *induces* a natural  definition of the *length* or *norm* of any vector as:\n",
        "\n",
        "$\\lVert v \\rVert = \\sqrt{<v,v>}$\n",
        "\n",
        "In the case of an Euclidean space with the dot product,\n",
        "\n",
        "Let $v = (v_1, v_2, ..... v_n)$ is the coordinate representation in a unit orthogonal basis. Then\n",
        "\n",
        "$\\lVert v \\rVert = \\sqrt{v_1^2 + v_2^2 + ...+ v_n^2}$"
      ]
    },
    {
      "cell_type": "markdown",
      "metadata": {
        "id": "mFfcX1JHqM2F"
      },
      "source": [
        "---\n",
        "**Other Norms**\n",
        "\n",
        "Other norms commonlly used are\n",
        "\n",
        "$\\lVert x \\rVert_p = (|x_1|^p + |x_2|^p + ....+ |x_n|^p)^\\frac{1}{p} $ called the $L_p$ norm\n",
        "\n",
        "p=2 is the familiar Euclidean distance ($L_2$)\n",
        "\n",
        "$L_∞$ emerges as $\\lVert x \\rVert_∞ = max\\{|x_1|, |x_2|, ... |x_n|\\}$"
      ]
    },
    {
      "cell_type": "markdown",
      "metadata": {
        "id": "F4dhrH236qSY"
      },
      "source": [
        "---\n",
        "**Weighted $L_2$ Norm**\n",
        "\n",
        "Let $w_1, w_2, ... w_n$ be non-negative scalars. Then\n",
        "\n",
        "$\\lVert x \\rVert_w = \\sum_i^n w_i x_i^2$\n",
        "\n",
        "This can be used to assign importance to different components.\n"
      ]
    },
    {
      "cell_type": "markdown",
      "metadata": {
        "id": "W9ShCdyj1p4o"
      },
      "source": [
        "\n",
        "\n",
        "---\n",
        "\n",
        "\n",
        "**Q7**\n",
        "\n",
        "Show that the $L_1$ and $L_∞$ satisfy the norm properties\n",
        "\n",
        "Ans:\n",
        "\n",
        "< Your answer here>\n",
        "\n",
        "\n",
        "\n"
      ]
    },
    {
      "cell_type": "markdown",
      "metadata": {
        "id": "VK2711p-3Yyt"
      },
      "source": [
        "\n",
        "\n",
        "---\n",
        "\n",
        "\n",
        "**Angle**\n",
        "\n",
        "Thanks to Cauchy-Schwarz inequality, we can define an angle between two vectors in an inner product space as:\n",
        "\n",
        "$\\cos (\\angle x,y) = \\frac{<x,y>}{\\lVert x \\rVert \\lVert y \\rVert}$\n"
      ]
    },
    {
      "cell_type": "markdown",
      "metadata": {
        "id": "b4gG4SGU5aTQ"
      },
      "source": [
        "---\n",
        "**Distance**\n",
        "\n",
        "A norm can be used to define the distance between vectors as:\n",
        "\n",
        "$d(x,y) = \\lVert x-y \\rVert$\n",
        "\n",
        "Any distance function shoud have the following properties:\n",
        "\n",
        "$d(x,y) \\geq 0$ and is $0$ if and only if $x = y$ : Positive definites\n",
        "\n",
        "$d(x,y) = d(y,x)$ : Symmetry\n",
        "\n",
        "$d(x,z) \\leq d(x,y) + d(y,z)$ : Triangle inequality"
      ]
    },
    {
      "cell_type": "markdown",
      "metadata": {
        "id": "ozJ5hDRb6hrO"
      },
      "source": [
        "---\n",
        "**Orthogonality and orthonormal basis**\n",
        "\n",
        "x,y are orthogonal, written as $x \\perp y$, if their scalar product, $<x,y> = 0$\n",
        "\n",
        "This means that $\\cos \\angle {x,y} = 0$ and angle is 90 degrees\n",
        "\n",
        "\n",
        "$e_1, e_2, ...., e_n$ are a orthonormal basis of a vector space of dimension $n$ if they are pairwose orthogonal and each vector as a unit norm.\n",
        "\n",
        "To find the coefficients for any vector as a linear combination of orthonormal basis, is straightforward:\n",
        "\n",
        "Let $x = a_1 e_1 + a_2 e_2 + ... + a_n e_n$\n",
        "\n",
        "then taking the inner product with any basis vector gives the corresponding coefficient\n",
        "\n",
        "$<x, e_i> = a_i$\n",
        "\n",
        "therefore\n",
        "\n",
        "$x = <x,e_1> e_1 + <x, e_2> e_2 + ... + <x,e_n>e_n$\n",
        "\n",
        "Examples:\n",
        "\n",
        "a) The unit vectors along the three perpendicular axis in 3D space are the orthonormal basis of 3D space.\n",
        "\n",
        "b) $\\{1, \\sqrt{2}\\sin 2π kt, \\sqrt{2}\\cos 2πkt \\}_{k=1,2..}$  is an orthonormal basis of square integrable functions in unit interval $[0,1]$"
      ]
    },
    {
      "cell_type": "markdown",
      "metadata": {
        "id": "3ChI2H8hW2Gx"
      },
      "source": [
        "---\n",
        "**Gram-Schmidt Orthogonalization procedure**\n",
        "\n",
        "Givent $n$ vectors $x_1, x_2, ... , x_n$ the procedures constructs an orthonormal set of vectors as follows:\n",
        "\n",
        "$q_1 = x_1$\n",
        "\n",
        "$q_2 = x_2 - <x_2, q_1>q_1$ (subtract out the component along $q_1$ and what remains is orthogonal to $q_1$)\n",
        "\n",
        "$q_3 = x_3 - <x_3, q_2>q_2 - <x_3, q_1>q_1$\n",
        "\n",
        "and so on to find all vectors up to $q_n$"
      ]
    },
    {
      "cell_type": "markdown",
      "metadata": {
        "id": "uamywVZ-cTX8"
      },
      "source": [
        "---\n",
        "**Q8**\n",
        "\n",
        "Let $x = x_1 e_1 + x_2 e_2 + ... x_n e_n$ where $e_1, e_2, ... e_n$ is the orthonormal basis.\n",
        "\n",
        "Find the $L_2$ norm  $\\lVert x \\rVert_2$ in terms of the coefficients $x_1, x_2, ... x_n$\n",
        "\n",
        "Ans:\n",
        "\n",
        "< your answer here>\n",
        "\n",
        "\n"
      ]
    },
    {
      "cell_type": "markdown",
      "metadata": {
        "id": "hD3HsXL4gkC5"
      },
      "source": [
        "---\n",
        "**Other Scalar Products**\n",
        "\n",
        "Instead of having the all basis vectors have a norm of 1, it is possible to have some of them have a norm of 0 or -1. This leads to other algebras called Clifford Algebras - which are also very interesting and useful to model various physical and mathematical constructs, which will be outside the scope of this course.\n",
        "\n",
        "https://en.wikipedia.org/wiki/Geometric_algebra\n",
        "\n"
      ]
    },
    {
      "cell_type": "markdown",
      "metadata": {
        "id": "4mLGTwD2i6xt"
      },
      "source": [
        "---\n",
        "**Linear Functions**\n",
        "\n",
        "Let $V, W$ be  $n and m$ dimensional vector spaces over a common field (we will assume reals unless otherwise stated)\n",
        "\n",
        "$f:V \\rightarrow W$ is a linear map if $f(a_1 x_1 + a_2 x_2) = a_1f(x_1) + a_2 f(x_2)$ for all scalars $a_1, a_2$ and vectors $x_1, x_2 \\in V$\n",
        "\n",
        "Examples:\n",
        "\n",
        "a) Rotation of a robot maps 3D Eculidean space to itself via a linear map\n",
        "\n",
        "b) Formation of an image on a camera can be modeled as a linear map\n",
        "\n",
        "c) The effect of a current input to a motor leads to a change in motor's angular position and velocity, can be be modeled as a linear map (for sufficiently small current inputs)\n",
        "\n",
        "d) In fact even for any non-linear functions - for small changes in inputs, the effect can be approximated as a linear map\n",
        "\n",
        "e) The formation of a binary hamming code-word if $n+k$ bits given an input of $n$ bits is a linear map (over the field of binary numbers)\n"
      ]
    },
    {
      "cell_type": "markdown",
      "metadata": {
        "id": "2G3FQ6dCtXQO"
      },
      "source": [
        "---\n",
        "**Q9**\n",
        "\n",
        "Show that a linear transformation must map the $0$ to $0$\n",
        "\n",
        "Ans:\n",
        "\n",
        "< your answer here?\n",
        "\n"
      ]
    },
    {
      "cell_type": "markdown",
      "metadata": {
        "id": "t4HGCJ_Rtvgw"
      },
      "source": [
        "---\n",
        "**Q10**\n",
        "\n",
        "Are these transformations linear?\n",
        "Here vector $v$ has components $v=(v_1, v_2, v_3)$  \n",
        "\n",
        "a) $T(v) = (v_2, v_1)$\n",
        "\n",
        "Ans:\n",
        "\n",
        "b) $T(v) = (v_1, v_1)$\n",
        "\n",
        "Ans:\n",
        "\n",
        "c) $T(v) = (0,1)$\n",
        "\n",
        "Ans:\n",
        "\n",
        "d) $T(v) = (\\frac{v_1}{v_3}, \\frac{v_2}{v_3},1)$\n",
        "\n",
        "Ans:\n"
      ]
    },
    {
      "cell_type": "markdown",
      "metadata": {
        "id": "vGMfDPLSvZxr"
      },
      "source": [
        "---\n",
        "**Q11**\n",
        "\n",
        "Let $T(v) = (v_3, v_1, v_2)$ What is $T^{100}(v)$?\n",
        "\n",
        "Ans:\n",
        "\n"
      ]
    },
    {
      "cell_type": "markdown",
      "metadata": {
        "id": "f-bQhqwMv2F7"
      },
      "source": [
        "---\n",
        "**Representation of Vectors and Linear Transforms**\n",
        "\n",
        "For finite dimensional vector spaces, vectors and linear transforms can be represented as matrices.\n",
        "\n",
        "Let ${e_1, e_2, ..., e_n}$ be a orthonormal basis of vector space $V$ and let any vector $x = \\sum_{i=1}^n x_i e_i$ then this vector is represented as $x = \\begin{bmatrix} x_1 \\\\ x_2 \\\\ ... \\\\ x_n \\end{bmatrix}$\n",
        "\n",
        "which is a column of coefficients. This matrix has n rows and 1 column and hence has size $nx1$\n",
        "\n",
        "The representation of the basis vectors in this basis is:\n",
        "$e_1 = \\begin{bmatrix} 1 \\\\ 0 \\\\ ... \\\\ 0 \\end{bmatrix}$ and similarly $e_i$ is a column vector with 1 in the $i^{th}$ row and 0 everywhere.\n",
        "\n",
        "\n",
        "Similarly let $g_1, g_2, ... g_m$ be an orthonormal basis of vector space $W$. Then a linear map $T : V → W$ can be represented by considering how it acts on the basis vectors of $V$.\n",
        "\n",
        "\n",
        "i.e,\n",
        "\n",
        "$T(e_i) = t_{1i} g_1 + t_{2i} g_2 + ... t_{mi} g_m$ and can be represented as a column vector $\\begin{bmatrix} t_{1i} \\\\ t_{2i} \\\\ ... \\\\ t_{mi} \\end{bmatrix}$\n",
        "\n",
        "Now the transformation of any vector $x=\\sum x_i e_i$ can be written as $T(x) = \\sum x_i T(e_i) $\n",
        "\n",
        "We can write $T$ as a 2D matrix with columns being the $T(e_i)$ vectors as $T = \\begin{bmatrix} t_{11} & t_{12} & .. & t_{1n} \\\\ t_{21} & t_{22} & .. & t_{2n} \\\\ ... \\\\ t_{m1} & t_{m2} & .. & t_{mn} \\end{bmatrix}$\n",
        "\n",
        "And the computation of $T(x)$ is done as a matrix vector multiply $T(x) = T x $ where on the right side, T is the $mxn$ matrix and x is the $nx1$ column vector.\n",
        "\n",
        "\n",
        "\n",
        "\n",
        "\n",
        "\n"
      ]
    },
    {
      "cell_type": "markdown",
      "metadata": {
        "id": "DNUVrgwGddFR"
      },
      "source": [
        "---\n",
        "**Column Space, Image, Kernel, Null Space, Rank-Nullity**\n",
        "\n",
        "The range or image of the transform (or matrix) A is\n",
        "\n",
        "$Image(A) = \\{y \\in W; y=Ax\\ ∀\\ x \\in V\\}$\n",
        "\n",
        "is a subspace of $W$ as it is span(columns of T) and is also called the **column space**.\n",
        "\n",
        "The set $Kernel(A)=\\{x\\ : Ax =0\\}$ is called the kernel of null space.\n",
        "\n",
        "*Rank-Nullity Theorem*\n",
        "\n",
        "$Dimension(Image(A)) + Dimension(Kernel(A)) = Dimension(V)$"
      ]
    },
    {
      "cell_type": "markdown",
      "metadata": {
        "id": "6GIKM9NAfQqY"
      },
      "source": [
        "---\n",
        "\n",
        "**Transpose of a Matrix**\n",
        "\n",
        "\n",
        "Let $A_{mxn}$ be a matrix $=\\begin{bmatrix} a_{11} & a_{12} & .. & a_{1n} \\\\ a_{21} & a_{22} & .. & a_{2n} \\\\ ... \\\\ a_{m1} & a_{m2} & .. & a_{mn} \\end{bmatrix}$\n",
        "\n",
        "representing the transform $A:V → W$\n",
        "\n",
        "then $A^T$ is a nxm matrix $=\\begin{bmatrix} a_{11} & a_{21} & .. & a_{m1} \\\\ a_{12} & a_{22} & .. & a_{m2} \\\\ ... \\\\ a_{1n} & a_{2n} & .. & a_{mn} \\end{bmatrix}$\n",
        "\n",
        "representing the transform $A^T: W → V$\n",
        "\n",
        "\n",
        "Example:\n",
        "\n",
        "If $x = \\begin{bmatrix} x_1 \\\\ x_2 \\\\ .. \\\\ x_n \\end{bmatrix}$ is a column vector\n",
        "\n",
        "$x^T = \\begin{bmatrix} x_1 & x_2 ... & x_n \\end{bmatrix}$ is a row vector\n",
        "\n",
        "\n",
        "Image($A^T$) is the row space of A and is a subspace of V and is the span of rows of $A$."
      ]
    },
    {
      "cell_type": "markdown",
      "metadata": {
        "id": "uzQTJPD2nJK0"
      },
      "source": [
        "---\n",
        "**Rank of a Matrix**\n",
        "\n",
        "Equivalent Definitions:\n",
        "\n",
        "Largest number of independent columns\n",
        "\n",
        "Dimension of Column space\n",
        "\n",
        "Largest numnber of independent rows\n",
        "\n",
        "Dimension of Row Space\n",
        "\n",
        "For a matrix of $A$ size $m \\times n$, rank($A$) $\\leq\\ min(m,n)$"
      ]
    },
    {
      "cell_type": "markdown",
      "metadata": {
        "id": "b3_CXDCsYHGP"
      },
      "source": [
        "---\n",
        "**Q12**\n",
        "\n",
        "Let $V$ be the space of all polynomials of a single variable upto degree $n$, over the reals.\n",
        "\n",
        "i.e $V = \\{p(x) = a_0 + a_1 x + a_2 x^2 + ... a_n x^n \\}$\n",
        "\n",
        "a) What is the dimension of $V$?\n",
        "\n",
        "Ans:\n",
        "\n",
        "< your answer here>\n",
        "\n",
        "\n",
        "\n",
        "b) Consider the differentiation operator $\\frac{d}{dx}:V → V$ such that\n",
        "\n",
        " $ \\frac{d}{dx}p(x) = a_1 + 2a_2 x + 3a_3x^2 + .. na_nx^{n-1}$. Write this operator in a matrix form.\n",
        "\n",
        "Ans:\n",
        "\n",
        "\n",
        "\n",
        "c) What is the rank of the Differentiation matrix?\n",
        "\n",
        "Ans:\n",
        "\n",
        "\n",
        "\n",
        "\n",
        "\n"
      ]
    }
  ],
  "metadata": {
    "colab": {
      "include_colab_link": true,
      "provenance": []
    },
    "kernelspec": {
      "display_name": "Python 3",
      "name": "python3"
    },
    "language_info": {
      "name": "python"
    }
  },
  "nbformat": 4,
  "nbformat_minor": 0
}
