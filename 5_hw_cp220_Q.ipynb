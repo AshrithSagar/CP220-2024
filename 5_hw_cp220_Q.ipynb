{
  "cells": [
    {
      "cell_type": "markdown",
      "metadata": {
        "colab_type": "text",
        "id": "view-in-github"
      },
      "source": [
        "<a href=\"https://colab.research.google.com/github/AshrithSagar/CP220-M4RAS-2024/blob/main/5_hw_cp220_Q.ipynb\" target=\"_parent\"><img src=\"https://colab.research.google.com/assets/colab-badge.svg\" alt=\"Open In Colab\"/></a>"
      ]
    },
    {
      "cell_type": "markdown",
      "metadata": {
        "id": "sNsZKP5tRneb"
      },
      "source": [
        "**Lab 5**\n",
        "\n",
        "*Topics*\n",
        "\n",
        "Diagonalizability and Eigen Value Decomposition<br>\n",
        "Normal and Defective Matrices <br>\n",
        "Power Series and analytic functions<br>\n",
        "Rotation as exponentiation <br>\n",
        "Algorithm for finding eigen values"
      ]
    },
    {
      "cell_type": "markdown",
      "metadata": {
        "id": "1ttcY15_OQTT"
      },
      "source": [
        "---\n",
        "**Q1**\n",
        "\n",
        "Suppose $A$ has eigenvalues 1,2,4.\n",
        "\n",
        "a) What is the trace of $A$?\n",
        "\n",
        "b) What is the Determinant $|A^{-T}|$?"
      ]
    },
    {
      "cell_type": "markdown",
      "metadata": {
        "id": "SdPGZlQpOuwn"
      },
      "source": [
        "Ans:\n",
        "\n",
        "(a)\n",
        "We know that the sum of eigenvalues is equal to the trace of the matrix.\n",
        "So, the trace of $\\mathbf{A}$ is $1+2+4=\\boxed{7}$.\n",
        "\n",
        "(b)\n",
        "We know that the product of eigenvalues is equal to the determinant of the matrix.\n",
        "\\begin{align*}\n",
        "    \\implies\n",
        "    |\\mathbf{A}^{-T}| \n",
        "    = |(\\mathbf{A}^{-1})^T| \n",
        "    = |\\mathbf{A}^{-1}| \n",
        "    = \\cfrac{1}{|\\mathbf{A}|} \n",
        "    = \\cfrac{1}{1 \\cdot 2 \\cdot 4} \n",
        "    = \\boxed{\\cfrac{1}{8}}\n",
        "\\end{align*}\n"
      ]
    },
    {
      "cell_type": "markdown",
      "metadata": {
        "id": "ixyklhCtQJYk"
      },
      "source": [
        "---\n",
        "**Diagonalization**\n",
        "\n",
        "Some square matrices are diagonalizable as:\n",
        "\n",
        "$AS = S\\Lambda$\n",
        "\n",
        "Therefore\n",
        "\n",
        "$A = S\\Lambda S^{-1}$\n",
        "\n",
        "\n",
        "where $\\Lambda$ is the diagonal of eigen values and $S$ is the corresponding Eigen vectors and is full rank. This happens when the geomertric multiplicity is equal to algebraic multiplicity.\n",
        "\n",
        "Such matrices are called Normal Matrices.\n",
        "\n",
        "\n",
        "Symmetric (or Hermitian) matrices are diagnolizable as:\n",
        "\n",
        "$A = S\\Lambda S^-1$ where $\\Lambda$ is diagonal of reals.\n",
        "\n",
        "Further more, $S$ can be chosen to be an orthogonal matrix (shown in last class) and hence\n",
        "\n",
        "$A = S\\Lambda S^T$\n",
        "\n",
        "\n",
        "A matrix that is diagonalizable is called a *Normal* matrix. Otherwise it is a *defective* matrix\n",
        "\n",
        "Next lab we will see that even a *defective* matrix can be almost diagnolized - into what is called a Jordan Normal Form."
      ]
    },
    {
      "cell_type": "markdown",
      "metadata": {
        "id": "PUos7xWh-xuD"
      },
      "source": [
        "---\n",
        "**Analytic functions of matrices**\n",
        "\n",
        "Any complex function that can be represented as a power series is called an analytic function (example the exponential, log, sine, cosine, polynomials etc.)\n",
        "\n",
        "Thus $e^x = 1 + x + x^2/2! + ...$\n",
        "\n",
        "We can replace $x$ with a diagonalizable matrix $A and get\n",
        "\n",
        "$e^A = I + A + A^2/2! + .... = I + S\\Lambda S^{-1} + S\\Lambda S^{-1}S\\Lambda s^{-1}/2!+... = S(I+\\Lambda + \\Lambda^2/2! +...)S^{-1}=Se^\\Lambda S^{-1}$\n",
        "\n",
        "Similarly for any analytic function $f(x)$, we can find $f(A)=Sf(\\Lambda)S^{-1}$\n",
        "\n",
        "Thus matrix powers are also easy to calculate for diagonalizable matrices.\n",
        "\n",
        "$A^n = S\\Lambda^n S^{-1}$"
      ]
    },
    {
      "cell_type": "markdown",
      "metadata": {
        "id": "2uALh_2PDJ3p"
      },
      "source": [
        "**Similar Matrices**\n",
        "\n",
        "Two square matrices $A,B$ are similar if there exists a non-singular $S$ such that\n",
        "\n",
        "$A = SBS^{-1}$\n",
        "\n",
        "Hence a diagonalizable matrix is similar to a diagonal matrix (of its eigen values).\n",
        "\n",
        "Two matrices $A, B$ which are simultaneously diagnolizable share the eigenspaces. Thus there exists a non-singular $S$ such that:\n",
        "\n",
        "$A=S\\Lambda_A S^{-1}$\n",
        "\n",
        "$B=S\\Lambda_B S^{-1}$\n",
        "\n",
        "These two matrices then commute\n",
        "\n",
        "$AB = S\\Lambda_A \\Lambda_B S^{-1} = S \\Lambda_B \\Lambda_A S^{-1} =  BA$\n",
        "\n"
      ]
    },
    {
      "cell_type": "code",
      "execution_count": 1,
      "metadata": {
        "colab": {
          "base_uri": "https://localhost:8080/"
        },
        "id": "vNuERTiNPhlO",
        "outputId": "b3df5ac8-c92a-4640-e14e-d7aaf4e5c405"
      },
      "outputs": [
        {
          "name": "stdout",
          "output_type": "stream",
          "text": [
            "eigen values = [1. 1.]\n",
            " eigen vectors=[[ 1.00000000e+00 -1.00000000e+00]\n",
            " [ 0.00000000e+00  1.11022302e-16]]\n"
          ]
        }
      ],
      "source": [
        "#Use Numpy to diagonalize\n",
        "import numpy as np\n",
        "\n",
        "A = np.array([[1,2],\n",
        "            [0,1]])\n",
        "D, S = np.linalg.eig(A)\n",
        "print(f\"eigen values = {D}\\n eigen vectors={S}\")"
      ]
    },
    {
      "cell_type": "markdown",
      "metadata": {
        "id": "QCTqUelA-RU1"
      },
      "source": [
        "Notice that in the above, the two eigen vectors are linearly related (if you ignore the tiny value of $\\approx 10^{-16}$ in the second vector.\n",
        "\n",
        "Hence A is defective matrix as the dimension of the eigen space of $1$ is 1 while arithmetic multiplicity is 2."
      ]
    },
    {
      "cell_type": "markdown",
      "metadata": {
        "id": "3N8bqCEwSmEL"
      },
      "source": [
        "---\n",
        "**Q2**\n",
        "Let $A = \\begin{bmatrix} 0.6 & 0.2 \\\\ 0.4 && 0.8 \\end{bmatrix}$. Find $A^6$ and $A^\\infty$"
      ]
    },
    {
      "cell_type": "markdown",
      "metadata": {
        "id": "ruWlMkr-S3Gs"
      },
      "source": [
        "Ans:\n",
        "\n"
      ]
    },
    {
      "cell_type": "code",
      "execution_count": 2,
      "metadata": {
        "colab": {
          "base_uri": "https://localhost:8080/"
        },
        "id": "3nM5fktWTFk_",
        "outputId": "56ebdbc2-2102-4a72-ed33-0297428a6551"
      },
      "outputs": [
        {
          "name": "stdout",
          "output_type": "stream",
          "text": [
            "D=[0.4 1. ], Dto6=[0.004096 1.      ]\n",
            "S=[[-0.70710678 -0.4472136 ]\n",
            " [ 0.70710678 -0.89442719]]\n",
            "Ato6=[[0.336064 0.331968]\n",
            " [0.663936 0.668032]]\n",
            "AtoInf=[[0.33333333 0.33333333]\n",
            " [0.66666667 0.66666667]]\n"
          ]
        }
      ],
      "source": [
        "A = np.array([[0.6, 0.2],[0.4,0.8]])\n",
        "D, S = np.linalg.eig(A)\n",
        "Dto6 = D**6\n",
        "print(f\"D={D}, Dto6={Dto6}\")\n",
        "print(f\"S={S}\")\n",
        "Ato6 = S @ np.diag(Dto6) @ np.linalg.inv(S)\n",
        "print(f\"Ato6={Ato6}\")\n",
        "DtoInf = D**np.inf\n",
        "AtoInf = S @ np.diag(DtoInf) @ np.linalg.inv(S)\n",
        "print(f\"AtoInf={AtoInf}\")"
      ]
    },
    {
      "cell_type": "markdown",
      "metadata": {
        "id": "0CKb2v0kwFwa"
      },
      "source": [
        "---\n",
        "**Q3**\n",
        "\n",
        "Using eigenvalue decomposition, show that if $B=\\begin{bmatrix} 3 & 2 \\\\ -5 & -3 \\end{bmatrix}$ then $B^4 = I$"
      ]
    },
    {
      "cell_type": "markdown",
      "metadata": {
        "id": "pW_nvhJ2wrKP"
      },
      "source": [
        "Ans:\n",
        "\n",
        "The eigenvalues of $\\mathbf{B}$ can be computed as follows.\n",
        "\\begin{align*}\n",
        "    \\text{det}(\\mathbf{B} - \\lambda \\mathbf{I})\n",
        "    &=\n",
        "    0\n",
        "    \\\\\n",
        "    \\begin{vmatrix}\n",
        "        3-\\lambda & 2 \\\\\n",
        "        -5 & -3-\\lambda\n",
        "    \\end{vmatrix}\n",
        "    &=\n",
        "    0\n",
        "    \\\\\n",
        "    \\implies\n",
        "    \\lambda^2 + 1\n",
        "    &=\n",
        "    0\n",
        "    \\\\\n",
        "    \\implies\n",
        "    \\lambda \\in \\{i, -i\\}\n",
        "\\end{align*}\n",
        "\n",
        "For the corresponding eigenvectors, we have\n",
        "\\begin{align*}\n",
        "    \\implies\n",
        "    \\mathbf{B} - i\\mathbf{I}\n",
        "    & =\n",
        "    \\begin{bmatrix}\n",
        "        3-i & 2 \\\\\n",
        "        -5 & -3-i\n",
        "    \\end{bmatrix}\n",
        "    \\implies\n",
        "    \\begin{bmatrix}\n",
        "        1 \\\\\n",
        "        \\frac{i-3}{2}\n",
        "    \\end{bmatrix}\n",
        "    \\\\\n",
        "    \\implies\n",
        "    \\mathbf{B} + i\\mathbf{I}\n",
        "    & =\n",
        "    \\begin{bmatrix}\n",
        "        3+i & 2 \\\\\n",
        "        -5 & -3+i\n",
        "    \\end{bmatrix}\n",
        "    \\implies\n",
        "    \\begin{bmatrix}\n",
        "        1 \\\\\n",
        "        \\frac{-i-3}{2}\n",
        "    \\end{bmatrix}\n",
        "\\end{align*}\n",
        "\n",
        "Thereby, we have the eigenvalue decomposition of $\\mathbf{B}$ as\n",
        "\\begin{align*}\n",
        "    \\mathbf{B}\n",
        "    & =\n",
        "    \\mathbf{S}\n",
        "    \\begin{bmatrix}\n",
        "        i & 0 \\\\\n",
        "        0 & -i\n",
        "    \\end{bmatrix}\n",
        "    \\mathbf{S}^{-1},\n",
        "    \\quad \\text{where }\n",
        "    \\mathbf{S} = \\begin{bmatrix} 1 & 1 \\\\ \\frac{i-3}{2} & \\frac{-i-3}{2} \\end{bmatrix}\n",
        "\\end{align*}\n",
        "\n",
        "Now, we can compute $\\mathbf{B}^4$ as\n",
        "\\begin{equation*}\n",
        "    \\mathbf{B}^4\n",
        "    =\n",
        "    \\mathbf{S}\n",
        "    \\begin{bmatrix}\n",
        "        i & 0 \\\\\n",
        "        0 & -i\n",
        "    \\end{bmatrix}^4\n",
        "    \\mathbf{S}^{-1}\n",
        "    =\n",
        "    \\mathbf{S}\n",
        "    \\begin{bmatrix}\n",
        "        i^4 & 0 \\\\\n",
        "        0 & (-i)^4\n",
        "    \\end{bmatrix}\n",
        "    \\mathbf{S}^{-1}\n",
        "    =\n",
        "    \\mathbf{S}\n",
        "    \\begin{bmatrix}\n",
        "        1 & 0 \\\\\n",
        "        0 & 1\n",
        "    \\end{bmatrix}\n",
        "    \\mathbf{S}^{-1}\n",
        "    =\n",
        "    \\mathbf{S}\n",
        "    \\mathbf{S}^{-1}\n",
        "    =\n",
        "    \\mathbf{I}\n",
        "\\end{equation*}\n",
        "\n",
        "Thus, $\\boxed{\\mathbf{B}^4 = \\mathbf{I}}$.\n"
      ]
    },
    {
      "cell_type": "markdown",
      "metadata": {
        "id": "C7FCEmvW9vhn"
      },
      "source": [
        "---\n",
        "Let $A$ be diagonalizable as $A=S\\Lambda S^{-1}$.\n",
        "\n",
        "$|e^{A}| = |Se^\\Lambda S^{-1}|=|e^{\\Lambda}|=|diag(\\{e^{\\lambda_i}\\})|=\\prod_i e^{\\lambda_i} =e^{\\sum_i{\\lambda_i}}=e^{trace(A)}$"
      ]
    },
    {
      "cell_type": "markdown",
      "metadata": {
        "id": "bBfrHLBMHbXV"
      },
      "source": [
        "---\n",
        "**Rotation Matrices as Exponentiation of Skew Symmetric Matrices**\n",
        "\n",
        "Let $\\omega = \\begin{bmatrix} \\omega_1 \\\\ \\omega_2 \\\\ \\omega_3 \\end{bmatrix}$ be a unit vector and let $\\theta$ be a counter clock wise rotation angle looking down into the vector.\n",
        "\n",
        "Then the rotation matrix  $R$ for this can be represented as:\n",
        "\n",
        "$R = e^{\\theta [\\omega]_x}$\n",
        "\n",
        "where $[\\omega]_\\times=\\begin{bmatrix}0 & -\\omega_3 & \\omega_2 \\\\ \\omega_3 & 0 & -\\omega_1 \\\\ -\\omega_2 & \\omega_1 & 0 \\end{bmatrix}$\n",
        "\n",
        "is a skew symmetric matrix.\n",
        "\n",
        "i.e. $[\\omega]_\\times^T = -[\\omega]_\\times$\n",
        "\n",
        "Rank of $[\\omega]_\\times$ is 2\n",
        "\n",
        "as it represents a cross product, i.e. $[\\omega]_\\times b = \\omega \\times b$ and maps the vector $b$ onto the plane normal to $\\omega$. This plane is 2D - thus a 3D vector is mapped onto a 2D subspace and hence its rank is 2.\n",
        "\n",
        "Also: $[\\omega]_\\times^3 = -[\\omega]_\\times$\n",
        "\n",
        "\n",
        "Applying the power law expansion to $R$ we get:\n",
        "\n",
        "$R = I + \\theta[\\omega\\_\\times + \\theta^2[\\omega]_\\times^2/2! + \\theta^3[\\omega]_\\times^3/3! + ... $<\\br> $= I + sin(\\theta)[\\omega]_\\times + (1-cos(\\theta))[\\omega]_\\times^2$\n",
        "\n",
        "Which is the Rodrigues formula to convert axis-angle to rotation matrix.\n",
        "\n",
        "Conversely\n",
        "\n",
        "$log(R) = (\\theta+2\\pi k) [\\omega]_\\times$ for integer $k$\n",
        "\n",
        "---\n",
        "Determinant of rotation matrix\n",
        "\n",
        "$|R| = |e^{\\theta[\\omega\\_\\times}|=e^0=1$\n",
        "\n",
        "as $[\\omega]_\\times$ is skew symmetric and has zeros in the digonal and hence trace is 0.\n"
      ]
    },
    {
      "cell_type": "markdown",
      "metadata": {
        "id": "Y0z9-Smix1uM"
      },
      "source": [
        "---\n",
        "**Difference Equations**\n",
        "\n",
        "Let $x_k \\in ℝ^n$ be a vector for time index $k$ and lets its evolution be governed by the following difference equation:\n",
        "\n",
        "$x_{k+1} = A x_k$\n",
        "\n",
        "Then by repeated application of the above, we get:\n",
        "\n",
        "$x_{k+1} = A^k x_0 = S D^k S^{-1} x_0$ where D is the diagonal of eigen values and S is the eigenvector matrix.\n",
        "\n",
        "Then as $ k → ∞, x_k → 0$ if and only if $|\\lambda_i| < 1 $ for all eigenvalues $\\lambda_i$ of $A$\n",
        "\n",
        "\n",
        "If we have an additional input at each time index as $u_k$ with an influence matrix $B$, then we have:\n",
        "\n",
        "\n",
        "$x_{k+1} = A x_k + B u_k$\n",
        "\n",
        "Applying the above recursively, we get:\n",
        "\n",
        "$x_k = A^k x_0 + Bu_{k-1} + ABu_{k-2} + ... A^{k-1}Bu_0$\n",
        "\n",
        "We know by Cayley-Hamilton Theorem, we can replace $A^n$ with linear combination of $A^{n-1}, A^{n-2}, ... I$ and hence for any $k$ we can write\n",
        "\n",
        "$x_k = A^k x_0 + A^{n-1}Bv_{n-1}+A^{n-2}Bv_{n-2} + ...+Bv_0$ where each $v_i$ is a linear combination of $u_k, u_{k-1}, ..., u_0$\n",
        "\n",
        "We can rewrite this as:\n",
        "\n",
        "$x_k = A^k x_0 + \\begin{bmatrix} A^{n-1}B & A^{n-2}B & ... & B \\end{bmatrix} \\begin{bmatrix} v_{n-1} \\\\ v_{n-2} \\\\ ... \\\\ v_0 \\end{bmatrix}$\n",
        "\n",
        "\n",
        "Let $T = \\begin{bmatrix} A^{n-1}B & A^{n-2}B & ... & B \\end{bmatrix}$ and it is a $n\\times {nr}$ if $B$ is $n \\times r$.\n",
        "\n",
        "So $x_k = A^k x_0 + TV$ where $V$ is the stack of $v_{n-1}, ..., v_0$ - each of which is a linear combination of inputs $u_{k}, u_{k-1}, ... , u_0$\n",
        "\n",
        "In general, the control problem is to find a sequence $u_{k}, u_{k-1}, ... , u_0$ such that $x_k$ is at a target value (or within a desired tolerance of the target values) $\\forall k > k_0$\n",
        "\n",
        "i.e, we need to solve the matrix equation $x_k - A^kx_0 = TV$ and find the $V$!. Usually we also want to put some constraints on $u$ so that we dont get physically unfeasible values.\n",
        "\n",
        "Note that if $T$ is not full rank, then the range of $T$ will not cover the entire $ℝ^n$ and hence for a vast collection of vectors on the left side, there doesnt exist any solution and hence such a system is inherently not controllable.\n",
        "\n",
        "A popular approach to solve this control problem is by using feedback - i.e. some linear function of the output or the state of the system is fed back as $u$. So the control problem reduces to finding the linear function to apply in the feedback."
      ]
    },
    {
      "cell_type": "markdown",
      "metadata": {
        "id": "0RlHRNZSinDH"
      },
      "source": [
        "---\n",
        "**Q4**\n",
        "\n",
        "Let $x_{k+1} = Ax_k$\n",
        "and\n",
        "$y_k = Cx_k$\n",
        "\n",
        "where $A=\\begin{bmatrix} a & b \\\\ b & a \\end{bmatrix}$\n",
        "\n",
        "Under what conditions is the system stable (i.e. for any initial condition $x_0$, $x_k → 0$ as $k → ∞$"
      ]
    },
    {
      "cell_type": "markdown",
      "metadata": {
        "id": "44jr3xL6jdmO"
      },
      "source": [
        "Ans:\n",
        "\n",
        "\n",
        "\n"
      ]
    },
    {
      "cell_type": "markdown",
      "metadata": {
        "id": "c1zncFTRbvIa"
      },
      "source": [
        "---\n",
        "**Q5**\n",
        "\n",
        "Is the following system controllable?\n",
        "\n",
        "$\\dot{x} = Ax + Bu$\n",
        "\n",
        "where\n",
        "$A=\\begin{bmatrix} 1 & 2 & 3 \\\\ 4 & 5 & 6 \\\\ 7 & 8 & 9 \\end{bmatrix}$ and\n",
        "\n",
        "$B = \\begin{bmatrix} 2 & 1 \\\\ 2 & 3 \\\\ 1 & 0 \\end{bmatrix}$"
      ]
    },
    {
      "cell_type": "code",
      "execution_count": null,
      "metadata": {
        "colab": {
          "base_uri": "https://localhost:8080/"
        },
        "id": "aGo1NVwGbuXU",
        "outputId": "6587ab99-5de1-4f2b-8837-4ac0a486fd6f"
      },
      "outputs": [
        {
          "name": "stdout",
          "output_type": "stream",
          "text": [
            "Rank(D)=3\n",
            "(3, 3)\n",
            "System is controllable\n"
          ]
        }
      ],
      "source": [
        "#Ans:\n",
        "\n",
        "A = np.array(\n",
        "  [\n",
        "      [1,2,3],\n",
        "      [4,5,6],\n",
        "      [7,8,9]\n",
        "  ]\n",
        "  )\n",
        "B = np.array(\n",
        "    [\n",
        "        [2,1],\n",
        "        [2,3],\n",
        "        [1,0]\n",
        "    ]\n",
        ")\n",
        "<your code>\n",
        "if (<your code>):\n",
        "  print(\"System is controllable\")\n",
        "else:\n",
        "  print(\"System is not controllable\")"
      ]
    },
    {
      "cell_type": "markdown",
      "metadata": {
        "id": "hwhYYGpEvOqO"
      },
      "source": [
        "---\n",
        "**Continuous linear systems**\n",
        "\n",
        "These can be modeled as vector differential equations as:\n",
        "\n",
        "$\\dot{x} = Ax$\n",
        "\n",
        "and its solution is:\n",
        "\n",
        "$x(t) = e^{At}x(0)$\n",
        "\n",
        "If $A=SDS^{-1}$ then $x(t)=e^{SDS^{-1}t}x(0) = Se^{Dt}S^{-1}x(0)$ where $D$ is the diagonal matrix of eigenvalues.\n",
        "\n",
        "Any eigen value $\\lambda_k=Re(\\lambda_k)+ iIm(\\lambda_k)$. If the real part is negative, it will go to zero as $t → ∞$ otherwise, it will blow up in an unbounded fashion.\n",
        "\n",
        "\n",
        "Thus the real part of all eigen values have to be negative for the system to be stable.\n"
      ]
    },
    {
      "cell_type": "markdown",
      "metadata": {
        "id": "N3hCoo9NyC1I"
      },
      "source": [
        "---\n",
        "**Q6**\n",
        "\n",
        "Show that $(e^A)^T$=$e^{A^T}$"
      ]
    },
    {
      "cell_type": "markdown",
      "metadata": {
        "id": "iqFDG75DzHde"
      },
      "source": [
        "Ans:\n",
        "\n",
        "\n",
        "\n"
      ]
    },
    {
      "cell_type": "markdown",
      "metadata": {
        "id": "28hyPZIQzx7U"
      },
      "source": [
        "---\n",
        "**Q7**\n",
        "\n",
        "Show that if $A$ is skew-symmetric, $e^{A}$ is orthogonal"
      ]
    },
    {
      "cell_type": "markdown",
      "metadata": {
        "id": "GXgoIC3Iz61e"
      },
      "source": [
        "Ans:\n",
        "\n"
      ]
    },
    {
      "cell_type": "markdown",
      "metadata": {
        "id": "pDhTdkgkgMk2"
      },
      "source": [
        "---\n",
        "**Q8**\n",
        "Plot the time response of the following system.\n",
        "\n",
        "$\\dot{x} = Ax$ where $A=\\begin{bmatrix} 1 & 2 & 3 \\\\ 4 & 2 & 6 \\\\ 1 & 1 & 1 \\end{bmatrix}$ for time = 0 till 10.\n",
        "\n",
        "Initial value of the state $x(0)=\\begin{bmatrix}1 \\\\ -1 \\\\ 2 \\end{bmatrix}$\n",
        "\n",
        "How many eigen modes are unstable?"
      ]
    },
    {
      "cell_type": "code",
      "execution_count": null,
      "metadata": {
        "id": "WC2QLT7cg2Ii"
      },
      "outputs": [],
      "source": [
        "import matplotlib.pyplot as plt\n",
        "%matplotlib inline\n",
        "#import scipy as sp"
      ]
    },
    {
      "cell_type": "code",
      "execution_count": null,
      "metadata": {
        "colab": {
          "base_uri": "https://localhost:8080/",
          "height": 579
        },
        "id": "6n-XKyfWga3M",
        "outputId": "5c992a15-df37-4716-d346-bf648cec5317"
      },
      "outputs": [
        {
          "name": "stdout",
          "output_type": "stream",
          "text": [
            "Eigenvalues=[ 6.12071328 -1.4399331  -0.68078017]\n",
            " Eigen Vector Matrix =[[-0.47865485 -0.53278885 -0.70469494]\n",
            " [-0.83942478  0.83701234 -0.34103883]\n",
            " [-0.25740157 -0.12468518  0.62217165]])\n",
            "ANS: Number of unstable Eigenmodes=1\n"
          ]
        },
        {
          "data": {
            "text/plain": [
              "<matplotlib.legend.Legend at 0x7d348b7b86d0>"
            ]
          },
          "execution_count": 70,
          "metadata": {},
          "output_type": "execute_result"
        },
        {
          "data": {
            "image/png": "[encoded data removed]",
            "text/plain": [
              "<Figure size 640x480 with 1 Axes>"
            ]
          },
          "metadata": {},
          "output_type": "display_data"
        }
      ],
      "source": [
        "A = np.array(\n",
        "  [\n",
        "      [1,2,3],\n",
        "      [4,2,6],\n",
        "      [1,1,1]\n",
        "  ]\n",
        "  )\n",
        "\n",
        "nt = 100 #number of time steps\n",
        "ts = 0.01 #time step size\n",
        "x = np.zeros((3,nt)) #set up the state matrix to be 3 x \"number of time steps\"\n",
        "x[:,0] = np.array([1,-1,2]) #initialize the value for time = 0\n",
        "\n",
        "<your code>\n",
        "\n",
        "print(f\"Eigenvalues={D}\\n Eigen Vector Matrix ={S})\")\n",
        "print(f\"ANS: Number of unstable Eigenmodes={np.count_nonzero(np.real(D)>0)}\")\n",
        "i=1\n",
        "tx = np.arange(0,ts*nt,ts) #generate the time values\n",
        "for t in tx[1:]:\n",
        "  eD = np.diag(np.exp(D*t))  #create the exponential diagonal matrix for each time\n",
        "  x[:,i] = S @ eD @ Sinv @ x[:,0]\n",
        "  i = i+1\n",
        "plt.plot(tx,x[0,:])\n",
        "plt.plot(tx,x[1,:])\n",
        "plt.plot(tx,x[2,:])\n",
        "plt.xlabel(\"time\")\n",
        "plt.ylabel(\"value\")\n",
        "plt.title(\"System State evolution\")\n",
        "plt.legend([\"x[0]\",\"x[1]\",\"x[2]\"])\n"
      ]
    },
    {
      "cell_type": "markdown",
      "metadata": {
        "id": "6xkE3Lwk7J8_"
      },
      "source": [
        "---\n",
        "**Schur's Decomposition**\n",
        "\n",
        "$A$ is any square matrix, then there is a unitary matrix $U$ such that $U^{-1}AU=T$ where T is a triangular matrix and has $A$'s eigen values in the diagonal.\n",
        "\n",
        "We can see this by construction (see pg 329-330 of Strang's book)\n",
        "\n",
        "Let $\\lambda_1$ be an eigen value and let $q_1$ be the corresponding unit eigen vector\n",
        "\n",
        "Then in theory we can find $q_2,...,q_n$ which are orthogonal to q_1 and linearly independent, such that\n",
        "\n",
        "$U_1 = \\begin{bmatrix}q_1& q_2&..&q_n\\end{bmatrix}$ and\n",
        "\n",
        "$AU_1 = U_1 T_1$ where\n",
        "\n",
        "$T_1 = \\begin{bmatrix} \\lambda_1 & * & *&...&* \\\\ 0 & * & * & ... & * \\\\ ... \\\\ 0 & * & * & ... & * \\end{bmatrix}$\n",
        "\n",
        "let $\\lambda_2 $ be the second eigen value\n",
        "\n",
        "and we can construct $U_2$ to make the second column 0 below diagonal.\n",
        "\n",
        "This process can be repeated $n$ times to get\n",
        "\n",
        "$A = QTQ^{-1}$ where $Q$ is orthogonal and $T$ is upper trianguar.\n",
        "\n",
        "Example (see code below)"
      ]
    },
    {
      "cell_type": "code",
      "execution_count": null,
      "metadata": {
        "colab": {
          "base_uri": "https://localhost:8080/"
        },
        "id": "ArL470pkuXWJ",
        "outputId": "d517b593-cbee-4af0-c24b-d6a1659a2d71"
      },
      "outputs": [
        {
          "name": "stdout",
          "output_type": "stream",
          "text": [
            "Example: [[ 1.00000000e+00 -2.23711432e-17]\n",
            " [-2.00000000e+00  3.00000000e+00]]\n",
            "[1. 3.]\n",
            "[[-7.07106781e-01 -7.85046229e-17]\n",
            " [-7.07106781e-01 -1.00000000e+00]]\n",
            "[[ 0.70710678  0.70710678]\n",
            " [-0.70710678  0.70710678]]\n"
          ]
        }
      ],
      "source": [
        "#Example to get an A = UT\n",
        "T = np.array([[1,2],[0,3]])\n",
        "U = 1/np.sqrt(2)*np.array([[1,-1],[1,1]])\n",
        "A = U @ T @ U.T\n",
        "print(f\"Example: {A}\")\n",
        "L, S = np.linalg.eig(A)\n",
        "print(L)\n",
        "print(S)\n",
        "print(np.linalg.inv(U))"
      ]
    },
    {
      "cell_type": "markdown",
      "metadata": {
        "id": "QIxrSU4xdMAa"
      },
      "source": [
        "---\n",
        "**Power Iteration Method for finding Eigen Value**\n",
        "\n",
        "This method works when the one eigen value has a larger magnitude than the others\n",
        "\n",
        "Let $\\lambda_1$ be the eigen value with largest magnitude.\n",
        "\n",
        "Let $A=S\\Lambda S^{-1}$ where $\\begin{bmatrix}s_1 & s_2 & .. *&s_n \\end{bmatrix}$ are the eigen vectors\n",
        "\n",
        "let $v_0$ be a unit norm vector.\n",
        "\n",
        "Then\n",
        "\n",
        "for k=1,2,3... <br>\n",
        "$\\ \\ $ $z_k = Aq_{k-1}$ <br>\n",
        "$\\ \\ $ $q_k = z_k/||z_k||$ <br>\n",
        "$\\ \\ $ $\\lambda ^{(k)}= q_k^H A q_k$\n",
        "\n",
        "converges to the largest eigen value and the corresponding eigen vector\n",
        "\n",
        "Lets express the starting vector as linear combination of eigen vectors:\n",
        "\n",
        "$q_0 = \\Sigma a_i s_i$ <br>\n",
        "Then,\n",
        "$A^kq_0 = \\Sigma \\lambda_i^k a_i s_i = \\lambda_1^k a_1 (s_1 + \\Sigma_j \\frac{\\lambda_j^k}{\\lambda_1^k} a_j/a_1 s_j)$\n",
        "\n",
        "For large $k$m the terms related to $s_2, s_3...$ die down to 0 and we are left with a unit eigen vector along $s_1$\n",
        "\n",
        "Thus $q_∞ = s_1/||s_1||$\n",
        "\n",
        "and $\\lambda^∞= q_∞^H A q_∞ = \\lambda_1$\n",
        "\n",
        "\n"
      ]
    },
    {
      "cell_type": "markdown",
      "metadata": {
        "id": "wlurOk_j-PxA"
      },
      "source": [
        "**QR Algorithm for finding eigen values**\n",
        "\n",
        "\n",
        "Let $A_0 = A$\n",
        "\n",
        "for k=1,2,.... <br>\n",
        "$\\ \\ $ Factorize $A_{k-1}$ as $A_{k-1}=Q_k R_k$ <br>\n",
        "$\\ \\ $ $A_k <= R_k Q_k$ <br>\n",
        "\n",
        "Note that $A_k = R_k Q_k = Q_k^{-1}Q_k R_k Q_k = Q_k^{-1} A_{k-1} Q_k$ and are similar. Hence $A_0, A_1, .... $ share same eigen values\n",
        "\n",
        "For more insight as to why this works, see chapter 7 of Golub\n",
        "\n",
        "\n"
      ]
    },
    {
      "cell_type": "markdown",
      "metadata": {
        "id": "YxWayohZ86OV"
      },
      "source": [
        "---\n",
        "**Normal Matrices**\n",
        "\n",
        "Normal matrices commute with their own conjugate transpose.\n",
        "\n",
        "$AA^H = A^HA$\n",
        "\n",
        "Normal matrices can be diagonalized with unitary matrices So these are nice matrices to work with!\n",
        "\n",
        "From Schur decomposition theorem\n",
        "\n",
        "$A = UTU^{-1}$, where $U$ is unitary and $T$ is triangular with eigenvalues in the diagonal.\n",
        "\n",
        "Note for unitary matrix $U^H = U^{-1}$, the conjugate transpose is its inverse (if matrix is real, then it is called orthogonal matrix)\n",
        "\n",
        "Then by normality condition, $AA^H = UTU^{-1}U^{-H}T^HU^H = A^HA = U^{-H}T^HU^HUTU^{-1}$\n",
        "which after simplification leads to $TT^H = T^HT$\n",
        "\n",
        "Which means that the triangle matrix is also normal.\n",
        "\n",
        "By induction, starting with 2x2 matrices, we can then prove that $T$ is diagonal.\n",
        "\n",
        "Hence any normal matrix $A$ is diagonalizable as $A=UDU^{-1}$ with a unitary matrix. In other words, the normal matrix has orthogonal eigenvectors.\n",
        "\n",
        "All hermitian, skew-hermitian"
      ]
    },
    {
      "cell_type": "markdown",
      "metadata": {
        "id": "DtJBmaaU79Aw"
      },
      "source": [
        "---\n",
        "**Spectral Theorem**\n",
        "\n",
        "Every normal matrix can be diagonalized by an Unitary matrix $U$. That is:\n",
        "\n",
        "$A = UDU^H$ where $D$ is diagonal with eigen values.\n",
        "\n",
        "\n",
        "Let $U=\\begin{bmatrix} u_1 & u_2 .. & u_n\\end{bmatrix}$ and $D=diag(\\lambda_1,\\lambda_2,...\\lambda_n)$, then $A=\\lambda_1 u_1u_1^H + \\lambda_2 u_2u_2^H + ... +\\lambda_n u_nu_n^H$\n",
        "\n",
        "decomposes A in to a sum of rank 1 projection matrices, each scaled by the corresponding eigen value."
      ]
    },
    {
      "cell_type": "markdown",
      "metadata": {
        "id": "F6cq5Lze4FsE"
      },
      "source": [
        "---\n",
        "**Q9**\n",
        "\n",
        "If $CD = -DC$ and $D$ is invertible, then\n",
        "\n",
        "a) Show that $C$ is similar to $-C$\n",
        "\n",
        "b) Show that if $\\lambda$ is an eigen value of $C$ then so is $-\\lambda$"
      ]
    },
    {
      "cell_type": "markdown",
      "metadata": {
        "id": "OPELt7th4YVW"
      },
      "source": [
        "Ans:\n",
        "\n"
      ]
    },
    {
      "cell_type": "markdown",
      "metadata": {
        "id": "_SxFPYHV6R0v"
      },
      "source": [
        "---\n",
        "**Q10**\n",
        "\n",
        "What matrix changes the basis $U=\\{\\begin{bmatrix} 1 \\\\1 \\end{bmatrix},\\begin{bmatrix} 1 \\\\ 4 \\end{bmatrix}\\}$ to $V=\\{\\begin{bmatrix} 2 \\\\5 \\end{bmatrix},\\begin{bmatrix} 1 \\\\ 4 \\end{bmatrix}\\}$ ?"
      ]
    },
    {
      "cell_type": "markdown",
      "metadata": {
        "id": "qPo20D9n8Vk0"
      },
      "source": [
        "Ans:\n",
        "\n",
        "\n",
        "Answer below from code\n",
        "\n"
      ]
    },
    {
      "cell_type": "code",
      "execution_count": null,
      "metadata": {
        "colab": {
          "base_uri": "https://localhost:8080/"
        },
        "id": "jl4uXrkyETd3",
        "outputId": "88193d90-8dca-4174-c90f-b6ad9b9008bc"
      },
      "outputs": [
        {
          "name": "stdout",
          "output_type": "stream",
          "text": [
            "The matrix which changes basis from U to V is [[ 1.  0.]\n",
            " [-1.  1.]]\n"
          ]
        }
      ],
      "source": [
        "#your code here\n",
        "V = np.array([[2,1],[5,4]])\n",
        "U = np.array([[1,1],[1,4]])\n",
        "print(f\"The matrix which changes basis from U to V is {<your code>}\")"
      ]
    },
    {
      "cell_type": "markdown",
      "metadata": {
        "id": "NEf7fVpjFC3x"
      },
      "source": [
        "---\n",
        "**Q11**\n",
        "\n",
        "The derivative of $a + bx + cx^2$ is $b + 2c x + 0x^2$\n",
        "\n",
        "a) Write it in a 3x3 matrix such that $D\\begin{bmatrix} a \\\\ b \\\\c \\end{bmatrix} = \\begin{bmatrix} b \\\\ 2c \\\\ 0 \\end{bmatrix}$\n",
        "\n",
        "b) What is $D^3$ and interpret in terms of derivative\n",
        "\n",
        "c) What are the eigen values and eigen vectors of D?"
      ]
    },
    {
      "cell_type": "markdown",
      "metadata": {
        "id": "HCqw9YIVFpsf"
      },
      "source": [
        "Ans:\n",
        "\n",
        "(a).\n",
        "Given that $D \\begin{bmatrix} a \\\\ b \\\\c \\end{bmatrix} = \\begin{bmatrix} b \\\\ 2c \\\\ 0 \\end{bmatrix}$, we can obtain\n",
        "\\begin{equation*}\n",
        "    \\boxed{\n",
        "    D\n",
        "    =\n",
        "    \\begin{bmatrix}\n",
        "        0 & 1 & 0 \\\\\n",
        "        0 & 0 & 2 \\\\\n",
        "        0 & 0 & 0\n",
        "    \\end{bmatrix}\n",
        "    }\n",
        "\\end{equation*}\n",
        "\n",
        "(b).\n",
        "\\begin{equation*}\n",
        "    \\implies\n",
        "    D^2\n",
        "    =\n",
        "    \\begin{bmatrix}\n",
        "        0 & 0 & 2 \\\\\n",
        "        0 & 0 & 0 \\\\\n",
        "        0 & 0 & 0\n",
        "    \\end{bmatrix}\n",
        "    \\quad \\text{and} \\quad\n",
        "    \\boxed{\n",
        "    D^3\n",
        "    =\n",
        "    \\begin{bmatrix}\n",
        "        0 & 0 & 0 \\\\\n",
        "        0 & 0 & 0 \\\\\n",
        "        0 & 0 & 0\n",
        "    \\end{bmatrix}\n",
        "    }\n",
        "\\end{equation*}\n",
        "\n",
        "The first, second and third derivatives of the function $a + bx + cx^2$ are $b + 2cx + 0x^2$, $2c + 0x + 0x^2$, and $0 + 0x + 0x^2$ respectively.\\\n",
        "Thus, the third derivative is zero.\n",
        "\n",
        "(c).\n",
        "We can find the characteristic equation of $D$ as $\\text{det}(D - \\lambda I) = 0 \\implies \\lambda^3 = 0$.\\\n",
        "Thus, the eigenvalues of $D$ are $\\boxed{\\{0, 0, 0\\}}$.\n",
        "\n",
        "The eigensubspace of $D$ is given by $\\text{null}(D) = \\text{span}\\left\\{\\begin{bmatrix} 1 \\\\ 0 \\\\ 0 \\end{bmatrix}\\right\\}$\n",
        "\n",
        "We can see that the dimension of the eigenspace is 1, which is less than the algebraic multiplicity 3.\n"
      ]
    },
    {
      "cell_type": "code",
      "execution_count": 1,
      "metadata": {
        "colab": {
          "base_uri": "https://localhost:8080/"
        },
        "id": "AMko1i7AGkip",
        "outputId": "cd8ed6ee-977c-4f69-9a65-a5d31b511462"
      },
      "outputs": [
        {
          "ename": "SyntaxError",
          "evalue": "invalid syntax (4289268685.py, line 2)",
          "output_type": "error",
          "traceback": [
            "\u001b[0;36m  Cell \u001b[0;32mIn[1], line 2\u001b[0;36m\u001b[0m\n\u001b[0;31m    <your code>\u001b[0m\n\u001b[0m    ^\u001b[0m\n\u001b[0;31mSyntaxError\u001b[0m\u001b[0;31m:\u001b[0m invalid syntax\n"
          ]
        }
      ],
      "source": [
        "D = np.array([[0,1,0],[0,0,2],[0,0,0]])\n",
        "<your code>\n",
        "print(f\"Eigen values are {L}\")\n",
        "print(f\"Eigen vectors are {S}\")"
      ]
    },
    {
      "cell_type": "markdown",
      "metadata": {
        "id": "MOZ5JXerHTyy"
      },
      "source": [
        "---\n",
        "**Q12**\n",
        "\n",
        "\n",
        "Let G be linear transformation that operates on 2 x 2 matrices as\n",
        "\n",
        "$G: ℝ^{2x2} → ℝ^{2x2}$ such that $G(A) = A^T$, where $A$ is a 2x2 matrix.\n",
        "\n",
        "What are the eigenvalues and eigenmatrices for $G$?\n",
        "\n",
        "\n"
      ]
    },
    {
      "cell_type": "markdown",
      "metadata": {
        "id": "sRWc3VKGH4So"
      },
      "source": [
        "Ans:\n",
        "\n",
        "\n",
        "\n"
      ]
    },
    {
      "cell_type": "code",
      "execution_count": null,
      "metadata": {
        "colab": {
          "base_uri": "https://localhost:8080/"
        },
        "id": "uhEEOm5xIlW9",
        "outputId": "bf3628c6-b854-4af7-916d-3af359cf149f"
      },
      "outputs": [
        {
          "name": "stdout",
          "output_type": "stream",
          "text": [
            "Eigen values = [ 1. -1.  1.  1.]\n",
            "Eigen Vectors = [[ 0.          0.          1.          0.        ]\n",
            " [ 0.70710678  0.70710678  0.          0.        ]\n",
            " [ 0.70710678 -0.70710678  0.          0.        ]\n",
            " [ 0.          0.          0.          1.        ]]\n"
          ]
        }
      ],
      "source": [
        "G = np.array([\n",
        "    [1,0,0,0],\n",
        "    [0,0,1,0],\n",
        "    [0,1,0,0],\n",
        "    [0,0,0,1]\n",
        "  ])\n",
        "\n",
        "<your code>\n",
        "print(f\"Eigen values = {D}\")\n",
        "print(f\"Eigen Vectors = {S}\")"
      ]
    },
    {
      "cell_type": "markdown",
      "metadata": {
        "id": "U65wFkBcI4J5"
      },
      "source": [
        "Contd...\n",
        "\n",
        "Eigen matrices are:\n"
      ]
    },
    {
      "cell_type": "markdown",
      "metadata": {
        "id": "h5VCWHKeQeh6"
      },
      "source": [
        "---\n",
        "**Q13**\n",
        "\n",
        "For a square $A$ show that the left and right eigenspaces corresponding to different eigen values are orthogonal\n"
      ]
    },
    {
      "cell_type": "markdown",
      "metadata": {
        "id": "0CHmIUMgQgpC"
      },
      "source": [
        "Ans:\n",
        "\n",
        "Let $\\mathbf{u}_i^T \\mathbf{A} = \\lambda _i \\mathbf{u}_i^T$ and $\\mathbf{A} \\mathbf{v}_j = \\lambda _j \\mathbf{v}_j$ be the left and right eigen vector equations, respectively.\n",
        "\n",
        "Then, we have, for $\\lambda_i \\neq \\lambda_j$,\n",
        "\\begin{align*}\n",
        "    (\\mathbf{u}_i^T \\mathbf{A}) \\mathbf{v}_j\n",
        "    &=\n",
        "    \\mathbf{u}_i^T (\\mathbf{A} \\mathbf{v}_j)\n",
        "    \\\\\n",
        "    \\implies\n",
        "    \\lambda_i \\mathbf{u}_i^T \\mathbf{v}_j\n",
        "    &=\n",
        "    \\lambda_j \\mathbf{u}_i^T \\mathbf{v}_j\n",
        "    \\\\\n",
        "    \\implies\n",
        "    (\\lambda_j - \\lambda_i) \\mathbf{u}_i^T \\mathbf{v}_j\n",
        "    &=\n",
        "    0\n",
        "    \\\\\n",
        "    \\implies\n",
        "    \\mathbf{u}_i^T \\mathbf{v}_j\n",
        "    &=\n",
        "    0\n",
        "\\end{align*}\n",
        "\n",
        "Thereby, the left and right eigenspaces corresponding to different eigenvalues are orthogonal.\n"
      ]
    },
    {
      "cell_type": "markdown",
      "metadata": {
        "id": "32v3qDIhdiz6"
      },
      "source": [
        "---\n",
        "**Q14**\n",
        "\n",
        "a) If $A^2 = -I$ what are the eigen values of $A$\n",
        "\n",
        "b) if A is a real n x n matrix, show that n must be even.\n"
      ]
    },
    {
      "cell_type": "markdown",
      "metadata": {
        "id": "syIwQFr3dwd2"
      },
      "source": [
        "Ans:\n",
        "\n",
        "\n"
      ]
    },
    {
      "cell_type": "markdown",
      "metadata": {
        "id": "cBvjkNpTEj3O"
      },
      "source": [
        "---\n",
        "**Positive Definite Matrices**\n",
        "\n",
        "(I) A symmetric matrix for which $x^TAx > 0$ if $x \\neq 0$ is called a positive definite matrix.\n",
        "\n",
        "(II) We know from earlier that a real symmetic matrix has real eigenvalues. In addition, if it is positive definite, its eigen values are positive.\n",
        "\n",
        "$Ax = \\lambda x$ so $x^TAx = \\lambda x^Tx >0$ and since $x^Tx>0$ this means $\\lambda > 0$\n",
        "\n",
        "Conversely if a symmetric matrix has positive eigenvalues, then it is positive definite.\n",
        "\n",
        "To see this, recall from our discussion on diagonalization, we know that a symmetric matrix is diagonalizable as $A=Q\\lambda Q^{-1}$, where $Q$ is orthogonal and hence $Q^{-1}= Q^T$.\n",
        "\n",
        "Which means that for any $x \\neq 0$, $x^TAx = x^TQ^TDQx = \\sum \\lambda_i ||q_i^Tx||^2 > 0$\n",
        "\n",
        "(III)  The pivots of A are positive. To see this,  $A=LDL^T$ with $D$ containing the pivots.\n",
        "Let $D= diag(d_1, d_2, ...,d_n)$ and $L=\\begin{bmatrix} l_1 & l_2 &... 7l_n \\end{bmatrix}$. Lets focus on $d_i$ and show that it is positive. Consider the subspace spanned by $\\{l_1, l_2, l_{i-1}, l_{i+1},...\\}$, ie. all columns except the $i^{th}$ one. Then, we can find a vector $x$ orthogonal to the subspace spanned by this set and hence $x^TAx = x^TLDL^Tx = d_i||l_i^Tx||^2 > 0$ and implies $d_i > 0$\n",
        "\n",
        "Converse is easy to prove.\n",
        "\n"
      ]
    },
    {
      "cell_type": "markdown",
      "metadata": {
        "id": "uzojBwxpKCTb"
      },
      "source": [
        "---\n",
        "**Multi-variate function optimization**\n",
        "\n",
        "Positive definite matrices naturally arise when one tries to optimize a multi-variable function\n",
        "Lets try to find the extrema of $F(x):ℝ^n → ℝ$ where $x\\inℝ^n$. Assume that $F$ and its derivatives upto second order exist.\n",
        "\n",
        "Just like in single variable case, we can write $F$ as a Taylor approximation around a point $x_0$ with as:\n",
        "\n",
        " $F(h) = F(x_0) + h^T ∇F(x_0) + \\frac{1}{2}h^T H(x_0) h\\ +\\ $terms of higher order.\n",
        "\n",
        "Here $h \\in ℝ^n$ and is small in magnitude.\n",
        "\n",
        "$\\nabla F = \\begin{bmatrix} \\frac{dF}{dx_1} \\\\ \\frac{dF}{dx_2} \\\\ .. \\\\\\frac{dF}{dx_n} \\end{bmatrix}$ is the gradient vector and points to the direction of steepest change of the function.\n",
        "\n",
        "At a point of extrema - gradient vector is 0. And hence it is a necessary condition.\n",
        "\n",
        "i.e $\\nabla F = 0$\n",
        "\n",
        "To determine whether it is a minima or maxima or neither, we need to look at the next term, which is a quadractic term.\n",
        "\n",
        "If $h^T H(x_0) h > 0 $ for all $h \\neq 0$, then it means that no matter which direction we move, the value of $F(x_0+h)$ will increase implying that $x_0$ is a minima. In other words, $H(x_0)$ has to be positive definite. The function $F$ in the neighbourhood of $x_0$ is shaped like a bowl facing upwards towards positive values of $F$\n",
        "\n",
        "If $h^T H(x_0) h < 0 $ for all $h \\neq 0$, then it means that no matter which direction we move, the value of $F(x_0+h)$ will decrease implying that $x_0$ is a maxima. In other words, $H(x_0)$ has to be negative definite.\n",
        "\n",
        "When $h^T H h \\geq 0$ for $h \\neq 0$ then $H$ is positive semi-definite and we can say that $F$ is non-decreasing as you move away from $x_0$.\n",
        "\n",
        "However if $h^T H h$'s sign depends on h, then it is a saddle point (shaped like a horse's saddle)"
      ]
    },
    {
      "cell_type": "markdown",
      "metadata": {
        "id": "_p0q2GioLERJ"
      },
      "source": [
        "---\n",
        "**Q15**\n",
        "\n",
        "Show that the diagonal entries of a positive definite matrix are positive."
      ]
    },
    {
      "cell_type": "markdown",
      "metadata": {
        "id": "iCEYrFHOLL5f"
      },
      "source": [
        "Ans:\n",
        "\n",
        "We will show it using proof by contradiction.\n",
        "\n",
        "Suppose $\\mathbf{A}$ was a positive definite matrix with a non-positive diagonal entry $a_{ii}$, i.e., $a_{ii} \\leq 0$.\n",
        "Then, taking $\\mathbf{x} = \\mathbf{e}_i$ (the $i$-th standard basis vector), we can get $\\mathbf{x}^T\\mathbf{A}\\mathbf{x} = a_{ii} \\leq 0$, which contradicts the positive definiteness of $\\mathbf{A}$.\n",
        "\n",
        "More specifically, with $\\mathbf{A} = \\begin{bmatrix} \\mathbf{a_{1}} & \\mathbf{a_{2}} & \\cdots & \\mathbf{a_{n}} \\end{bmatrix}$, where $\\mathbf{a_{j}}$ is the $j$-th column of $\\mathbf{A}$, we have\n",
        "\\begin{equation*}\n",
        "    \\mathbf{e_i}^T\\mathbf{A}\\mathbf{e_i}\n",
        "    = \\mathbf{e_i}^T(\\mathbf{A}\\mathbf{e_i})\n",
        "    = \\mathbf{e_i}^T\\mathbf{a_i}\n",
        "    = a_{ii} \\leq 0\n",
        "\\end{equation*}\n",
        "\n",
        "Thus, the diagonal entries of a positive definite matrix cannot be negative or zero.\n",
        "\n",
        "Thereby, a positive definite matrix <u>necessarily has positive diagonal entries</u>.\n",
        "\n",
        "Alternatively, we can also show this by considering the eigenvalues of a positive definite matrix.\n",
        "Since $\\mathbf{A}$ is also a symmetric matrix, we have that it is diagonalizable as $\\mathbf{A} = \\mathbf{Q}\\mathbf{\\Lambda}\\mathbf{Q}^{-1}$, where $\\mathbf{Q}$ is orthogonal and $\\mathbf{\\Lambda}$ is a diagonal matrix with the eigenvalues of $\\mathbf{A}$.\n",
        "The eigenvalues of a symmetric matrix are real and positive, and thus the diagonal entries of $\\mathbf{\\Lambda}$ are positive.\n",
        "Since $\\mathbf{A} \\sim \\mathbf{\\Lambda}$, the diagonal entries of $\\mathbf{A}$ are also positive.\n"
      ]
    },
    {
      "cell_type": "markdown",
      "metadata": {
        "id": "bEWLC2DyOLtW"
      },
      "source": [
        "---\n",
        "**Q16**\n",
        "If A, B are positive definite, show that A+B is also positive definite"
      ]
    },
    {
      "cell_type": "markdown",
      "metadata": {
        "id": "A2anNZ5OOSRq"
      },
      "source": [
        "Ans:\n",
        "\n",
        "Let $\\mathbf{A}$ and $\\mathbf{B}$ be positive definite matrices.\n",
        "Then, for any non-zero vector $\\mathbf{x}$, we have that $\\mathbf{x}^T\\mathbf{A}\\mathbf{x} > 0$ and $\\mathbf{x}^T\\mathbf{B}\\mathbf{x} > 0$.\n",
        "From this, we can observe that $\\mathbf{x}^T(\\mathbf{A} + \\mathbf{B})\\mathbf{x} = \\mathbf{x}^T\\mathbf{A}\\mathbf{x} + \\mathbf{x}^T\\mathbf{B}\\mathbf{x} > 0$.\n",
        "Thereby, <u>$\\mathbf{A} + \\mathbf{B}$ is also positive definite<u>.\n"
      ]
    }
  ],
  "metadata": {
    "colab": {
      "include_colab_link": true,
      "provenance": []
    },
    "kernelspec": {
      "display_name": "Python 3",
      "name": "python3"
    },
    "language_info": {
      "codemirror_mode": {
        "name": "ipython",
        "version": 3
      },
      "file_extension": ".py",
      "mimetype": "text/x-python",
      "name": "python",
      "nbconvert_exporter": "python",
      "pygments_lexer": "ipython3",
      "version": "3.9.17"
    }
  },
  "nbformat": 4,
  "nbformat_minor": 0
}
